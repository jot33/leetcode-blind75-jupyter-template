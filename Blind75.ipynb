{
 "cells": [
  {
   "cell_type": "markdown",
   "metadata": {},
   "source": [
    "<a id=\"top\"></a>\n",
    "# Blind 75 in Python"
   ]
  },
  {
   "cell_type": "markdown",
   "metadata": {},
   "source": [
    "---\n",
    "***Description***\n",
    "\n",
    "All-in-one tracking, notes, and code testing notebook for working through \"Blind 75\" Leetcode problems.\n",
    "\n",
    "Take notes and work problems in python. Check off as you complete.\n",
    "\n",
    "[Web Link: Blind 75 Discussion on Leetcode](https://leetcode.com/discuss/general-discussion/460599/blind-75-leetcode-questions)\n",
    "\n",
    "[Web Link: 14 Patterns to Ace Any Coding Interview Question](https://hackernoon.com/14-patterns-to-ace-any-coding-interview-question-c5bb3357f6ed)"
   ]
  },
  {
   "cell_type": "markdown",
   "metadata": {},
   "source": [
    "---\n",
    "\n",
    "***Note on links***\n",
    "\n",
    "- Links marked **Web Link** navigate to ***external sites*** (generally the leetcode problem listed)\n",
    "- Otherwise, links are HTML anchors configured for internal notebook navigation\n",
    "    - e.g. <a href='#toc'>Table of Contents</a> takes you to the TOC section of this notebook"
   ]
  },
  {
   "cell_type": "markdown",
   "metadata": {},
   "source": [
    "---\n",
    "\n",
    "***Note on checkboxes (<input type=\"checkbox\">)***\n",
    "\n",
    "I had render issues using typical checkbox markdown `- [ ]`\n",
    "\n",
    "As a workaround, checkboxes are formatted in markdown cells with HTML: `<input type=\"checkbox\">`\n",
    "\n",
    "Find `<input type=\"checkbox\">` and replace with `- [ ]` if the following checkbox renders correctly:\n",
    "- [ ]\n",
    "\n",
    "Otherwise, update checkboxes by `double-click` or pressing `Enter` in a cell and changing:\n",
    "\n",
    "- `<input type=\"checkbox\">` = Unchecked (<input type=\"checkbox\">)\n",
    "- `<input type=\"checkbox\" checked>` = Checked (<input type=\"checkbox\" checked>)"
   ]
  },
  {
   "cell_type": "markdown",
   "metadata": {
    "tags": []
   },
   "source": [
    "<a id=\"toc\"></a>\n",
    "# Table of Contents"
   ]
  },
  {
   "cell_type": "markdown",
   "metadata": {
    "tags": []
   },
   "source": [
    "---\n",
    "**Problem Lists**\n",
    "- <a href=\"#array\">Array</a>\n",
    "\n",
    "- <a href=\"#binary\">Binary</a>\n",
    "\n",
    "- <a href=\"#dynamic\">Dynamic Programming</a>\n",
    "\n",
    "- <a href=\"#graph\">Graph</a>\n",
    "\n",
    "- <a href=\"#interval\">Interval</a>\n",
    "\n",
    "- <a href=\"#linkedlist\">Linked List</a>\n",
    "\n",
    "- <a href=\"#matrix\">Matrix</a>\n",
    "\n",
    "- <a href=\"#string\">String</a>\n",
    "\n",
    "- <a href=\"#tree\">Tree</a>\n",
    "\n",
    "- <a href=\"#heap\">Heap</a>"
   ]
  },
  {
   "cell_type": "markdown",
   "metadata": {},
   "source": [
    "<a id=\"array\"></a>\n",
    "## Array Problems\n",
    "---\n",
    "<a href=\"#top\">Top </a>\n",
    "\n",
    "<a href=\"#toc\">Table of Contents</a>\n",
    "- <a href=\"#array\">Array</a> |\n",
    "<a href=\"#binary\">Binary</a> |\n",
    "<a href=\"#dynamic\">Dynamic Programming</a> |\n",
    "<a href=\"#graph\">Graph</a> |\n",
    "<a href=\"#interval\">Interval</a> |\n",
    "<a href=\"#linkedlist\">Linked List</a> |\n",
    "<a href=\"#matrix\">Matrix</a> |\n",
    "<a href=\"#string\">String</a> |\n",
    "<a href=\"#tree\">Tree</a> |\n",
    "<a href=\"#heap\">Heap</a>\n",
    "\n",
    "<a href=\"#workedproblems\">Worked Problems</a>\n",
    "\n",
    "---"
   ]
  },
  {
   "cell_type": "markdown",
   "metadata": {},
   "source": [
    "<input type=\"checkbox\"> <a href=\"#arraytwosum\">Two Sum</a>\n",
    "- [Web Link](https://leetcode.com/problems/two-sum/)\n",
    "\n",
    "<input type=\"checkbox\"> <a href=\"#arraystock\">Best Time to Buy and Sell Stock</a>\n",
    "- [Web Link](https://leetcode.com/problems/best-time-to-buy-and-sell-stock/)\n",
    "\n",
    "<input type=\"checkbox\"> <a href=\"#arrayduplicate\">Contains Duplicate</a>\n",
    "- [Web Link](https://leetcode.com/problems/contains-duplicate/)\n",
    "\n",
    "<input type=\"checkbox\"> <a href=\"#arrayself\">Product of Array Except Self</a>\n",
    "- [Web Link](https://leetcode.com/problems/product-of-array-except-self/)\n",
    "\n",
    "<input type=\"checkbox\"> <a href=\"#arraymaxsub\">Maximum Subarray</a>\n",
    "- [Web Link](https://leetcode.com/problems/maximum-subarray/)\n",
    "\n",
    "<input type=\"checkbox\"> <a href=\"#arrayproductmaxsub\">Maximum Product Subarray</a>\n",
    "- [Web Link](https://leetcode.com/problems/maximum-product-subarray/)\n",
    "\n",
    "<input type=\"checkbox\"> <a href=\"#arrayminrotated\">Find Minimum in Rotated Sorted Array</a>\n",
    "- [Web Link](https://leetcode.com/problems/find-minimum-in-rotated-sorted-array/)\n",
    "\n",
    "<input type=\"checkbox\"> <a href=\"#arraysearchrotated\">Search in Rotated Sorted Array</a>\n",
    "- [Web Link](https://leetcode.com/problems/search-in-rotated-sorted-array/)\n",
    "\n",
    "<input type=\"checkbox\"> <a href=\"#array3sum\">3 Sum</a>\n",
    "- [Web Link](https://leetcode.com/problems/3sum/)\n",
    "\n",
    "<input type=\"checkbox\"> <a href=\"#arraywater\">Container With Most Water</a>\n",
    "- [Web Link](https://leetcode.com/problems/container-with-most-water/)\n"
   ]
  },
  {
   "cell_type": "markdown",
   "metadata": {},
   "source": [
    "<a id=\"binary\"></a>\n",
    "## Binary Problems\n",
    "---\n",
    "<a href=\"#top\">Top </a>\n",
    "\n",
    "<a href=\"#toc\">Table of Contents</a>\n",
    "\n",
    "- <a href=\"#array\">Array</a> |\n",
    "<a href=\"#binary\">Binary</a> |\n",
    "<a href=\"#dynamic\">Dynamic Programming</a> |\n",
    "<a href=\"#graph\">Graph</a> |\n",
    "<a href=\"#interval\">Interval</a> |\n",
    "<a href=\"#linkedlist\">Linked List</a> |\n",
    "<a href=\"#matrix\">Matrix</a> |\n",
    "<a href=\"#string\">String</a> |\n",
    "<a href=\"#tree\">Tree</a> |\n",
    "<a href=\"#heap\">Heap</a>\n",
    "\n",
    "<a href=\"#workedproblems\">Worked Problems</a>\n",
    "\n",
    "---"
   ]
  },
  {
   "cell_type": "markdown",
   "metadata": {},
   "source": [
    "<input type=\"checkbox\"> <a href=\"#binsum2int\">Sum of Two Integers</a>\n",
    "- [Web Link](https://leetcode.com/problems/sum-of-two-integers/)\n",
    "\n",
    "<input type=\"checkbox\"> <a href=\"#binnum1bit\">Number of 1 Bits</a>\n",
    "- [Web Link](https://leetcode.com/problems/number-of-1-bits/)\n",
    "\n",
    "<input type=\"checkbox\"> <a href=\"#bincountbits\">Counting Bits</a>\n",
    "- [Web Link](https://leetcode.com/problems/counting-bits/)\n",
    "\n",
    "<input type=\"checkbox\"> <a href=\"#binmissnum\">Missing Number</a>\n",
    "- [Web Link](https://leetcode.com/problems/missing-number/)\n",
    "\n",
    "<input type=\"checkbox\"> <a href=\"#binrevbits\">Reverse Bits</a>\n",
    "- [Web Link](https://leetcode.com/problems/reverse-bits/)"
   ]
  },
  {
   "cell_type": "markdown",
   "metadata": {},
   "source": [
    "<a id=\"dynamic\"></a>\n",
    "## Dynamic Programming Problems\n",
    "---\n",
    "<a href=\"#top\">Top </a>\n",
    "\n",
    "<a href=\"#toc\">Table of Contents</a>\n",
    "\n",
    "- <a href=\"#array\">Array</a> |\n",
    "<a href=\"#binary\">Binary</a> |\n",
    "<a href=\"#dynamic\">Dynamic Programming</a> |\n",
    "<a href=\"#graph\">Graph</a> |\n",
    "<a href=\"#interval\">Interval</a> |\n",
    "<a href=\"#linkedlist\">Linked List</a> |\n",
    "<a href=\"#matrix\">Matrix</a> |\n",
    "<a href=\"#string\">String</a> |\n",
    "<a href=\"#tree\">Tree</a> |\n",
    "<a href=\"#heap\">Heap</a>\n",
    "\n",
    "<a href=\"#workedproblems\">Worked Problems</a>\n",
    "\n",
    "---"
   ]
  },
  {
   "cell_type": "markdown",
   "metadata": {},
   "source": [
    "<input type=\"checkbox\"> <a href=\"#dynstairs\">Climbing Stairs</a>\n",
    "- [Web Link](https://leetcode.com/problems/climbing-stairs/)\n",
    "\n",
    "<input type=\"checkbox\"> <a href=\"#dyncoin\">Coin Change</a>\n",
    "- [Web Link](https://leetcode.com/problems/coin-change/)\n",
    "\n",
    "<input type=\"checkbox\"> <a href=\"#dynincsub\">Longest Increasing Subsequence</a>\n",
    "- [Web Link](https://leetcode.com/problems/longest-increasing-subsequence/)\n",
    "\n",
    "<input type=\"checkbox\"> <a href=\"#dyncommsub\">Longest Common Subsequence</a>\n",
    "- [Web Link](https://leetcode.com/problems/longest-common-subsequence/)\n",
    "\n",
    "<input type=\"checkbox\"> <a href=\"#dynwordbr\">Word Break Problem</a>\n",
    "- [Web Link](https://leetcode.com/problems/word-break/)\n",
    "\n",
    "<input type=\"checkbox\"> <a href=\"#dyncombsum\">Combination Sum</a>\n",
    "- [Web Link](https://leetcode.com/problems/combination-sum-iv/)\n",
    "\n",
    "<input type=\"checkbox\"> <a href=\"#dynrob\">House Robber</a>\n",
    "- [Web Link](https://leetcode.com/problems/house-robber/)\n",
    "\n",
    "<input type=\"checkbox\"> <a href=\"#dynrob2\">House Robber II</a>\n",
    "- [Web Link](https://leetcode.com/problems/house-robber-ii/)\n",
    "\n",
    "<input type=\"checkbox\"> <a href=\"#dyndecways\">Decode Ways</a>\n",
    "- [Web Link](https://leetcode.com/problems/decode-ways/)\n",
    "\n",
    "<input type=\"checkbox\"> <a href=\"#dynpath\">Unique Paths</a>\n",
    "- [Web Link](https://leetcode.com/problems/unique-paths/)\n",
    "\n",
    "<input type=\"checkbox\"> <a href=\"#dyngame\">Jump Game</a>\n",
    "- [Web Link](https://leetcode.com/problems/jump-game/)"
   ]
  },
  {
   "cell_type": "markdown",
   "metadata": {},
   "source": [
    "<a id=\"graph\"></a>\n",
    "## Graph Problems\n",
    "---\n",
    "<a href=\"#top\">Top </a>\n",
    "\n",
    "<a href=\"#toc\">Table of Contents</a>\n",
    "\n",
    "<a href=\"#array\">Array</a> |\n",
    "<a href=\"#binary\">Binary</a> |\n",
    "<a href=\"#dynamic\">Dynamic Programming</a> |\n",
    "<a href=\"#graph\">Graph</a> |\n",
    "<a href=\"#interval\">Interval</a> |\n",
    "<a href=\"#linkedlist\">Linked List</a> |\n",
    "<a href=\"#matrix\">Matrix</a> |\n",
    "<a href=\"#string\">String</a> |\n",
    "<a href=\"#tree\">Tree</a> |\n",
    "<a href=\"#heap\">Heap</a>\n",
    "\n",
    "<a href=\"#workedproblems\">Worked Problems</a>\n",
    "\n",
    "---"
   ]
  },
  {
   "cell_type": "markdown",
   "metadata": {},
   "source": [
    "<input type=\"checkbox\"> <a href=\"#graphclone\">Clone Graph</a>\n",
    "- [Web Link](https://leetcode.com/problems/clone-graph/)\n",
    "\n",
    "<input type=\"checkbox\"> <a href=\"#graphsched\">Course Schedule</a>\n",
    "- [Web Link](https://leetcode.com/problems/course-schedule/)\n",
    "\n",
    "<input type=\"checkbox\"> <a href=\"#graphflow\">Pacific Atlantic Water Flow</a>\n",
    "- [Web Link](https://leetcode.com/problems/pacific-atlantic-water-flow/)\n",
    "\n",
    "<input type=\"checkbox\"> <a href=\"#graphisl\">Number of Islands</a>\n",
    "- [Web Link](https://leetcode.com/problems/number-of-islands/)\n",
    "\n",
    "<input type=\"checkbox\"> <a href=\"#graphseq\">Longest Consecutive Sequence</a>\n",
    "- [Web Link](https://leetcode.com/problems/longest-consecutive-sequence/)\n",
    "\n",
    "<input type=\"checkbox\"> <a href=\"#graphalien\">Alien Dictionary (Leetcode Premium)</a>\n",
    "- [Web Link](https://leetcode.com/problems/alien-dictionary/)\n",
    "\n",
    "<input type=\"checkbox\"> <a href=\"#graphtree\">Graph Valid Tree (Leetcode Premium)</a>\n",
    "- [Web Link](https://leetcode.com/problems/graph-valid-tree/)\n",
    "\n",
    "<input type=\"checkbox\"> <a href=\"#graphconnect\">Number of Connected Components in an Undirected Graph (Leetcode Premium)</a>\n",
    "- [Web Link](https://leetcode.com/problems/number-of-connected-components-in-an-undirected-graph/)"
   ]
  },
  {
   "cell_type": "markdown",
   "metadata": {},
   "source": [
    "<a id=\"interval\"></a>\n",
    "## Interval Problems\n",
    "---\n",
    "<a href=\"#top\">Top </a>\n",
    "\n",
    "<a href=\"#toc\">Table of Contents</a>\n",
    "\n",
    "<a href=\"#array\">Array</a> |\n",
    "<a href=\"#binary\">Binary</a> |\n",
    "<a href=\"#dynamic\">Dynamic Programming</a> |\n",
    "<a href=\"#graph\">Graph</a> |\n",
    "<a href=\"#interval\">Interval</a> |\n",
    "<a href=\"#linkedlist\">Linked List</a> |\n",
    "<a href=\"#matrix\">Matrix</a> |\n",
    "<a href=\"#string\">String</a> |\n",
    "<a href=\"#tree\">Tree</a> |\n",
    "<a href=\"#heap\">Heap</a>\n",
    "\n",
    "<a href=\"#workedproblems\">Worked Problems</a>\n",
    "\n",
    "------"
   ]
  },
  {
   "cell_type": "markdown",
   "metadata": {},
   "source": [
    "<input type=\"checkbox\"> <a href='#intinsert'>Insert Interval</a>\n",
    "- [Web Link](https://leetcode.com/problems/insert-interval/)\n",
    "\n",
    "<input type=\"checkbox\"> <a href='#intmerge'>Merge Intervals</a>\n",
    "- [Web Link](https://leetcode.com/problems/merge-intervals/)\n",
    "\n",
    "<input type=\"checkbox\"> <a href='#intnover'>Non-overlapping Intervals</a>\n",
    "- [Web Link](https://leetcode.com/problems/non-overlapping-intervals/)\n",
    "\n",
    "<input type=\"checkbox\"> <a href='#intmeet'>Meeting Rooms (Leetcode Premium)</a>\n",
    "- [Web Link](https://leetcode.com/problems/meeting-rooms/)\n",
    "\n",
    "<input type=\"checkbox\"> <a href='#intmeet2'>Meeting Rooms II (Leetcode Premium)</a>\n",
    "- [Web Link](https://leetcode.com/problems/meeting-rooms-ii/)"
   ]
  },
  {
   "cell_type": "markdown",
   "metadata": {},
   "source": [
    "<a id=\"linkedlist\"></a>\n",
    "## Linked List Problems\n",
    "------\n",
    "<a href=\"#top\">Top </a>\n",
    "\n",
    "<a href=\"#toc\">Table of Contents</a>\n",
    "\n",
    "<a href=\"#array\">Array</a> |\n",
    "<a href=\"#binary\">Binary</a> |\n",
    "<a href=\"#dynamic\">Dynamic Programming</a> |\n",
    "<a href=\"#graph\">Graph</a> |\n",
    "<a href=\"#interval\">Interval</a> |\n",
    "<a href=\"#linkedlist\">Linked List</a> |\n",
    "<a href=\"#matrix\">Matrix</a> |\n",
    "<a href=\"#string\">String</a> |\n",
    "<a href=\"#tree\">Tree</a> |\n",
    "<a href=\"#heap\">Heap</a>\n",
    "\n",
    "<a href=\"#workedproblems\">Worked Problems</a>\n",
    "\n",
    "------"
   ]
  },
  {
   "cell_type": "markdown",
   "metadata": {},
   "source": [
    "<input type=\"checkbox\"> <a href='#llistrev'>Reverse a Linked List</a>\n",
    "- [Web Link](https://leetcode.com/problems/reverse-linked-list/)\n",
    "\n",
    "<input type=\"checkbox\"> <a href='#llistcycl'>Detect Cycle in a Linked List</a>\n",
    "- [Web Link](https://leetcode.com/problems/linked-list-cycle/)\n",
    "\n",
    "<input type=\"checkbox\"> <a href='#llistmerge2'>Merge Two Sorted Lists</a>\n",
    "- [Web Link](https://leetcode.com/problems/merge-two-sorted-lists/)\n",
    "\n",
    "<input type=\"checkbox\"> <a href='#llistmergek'>Merge K Sorted Lists</a>\n",
    "- [Web Link](https://leetcode.com/problems/merge-k-sorted-lists/)\n",
    "\n",
    "<input type=\"checkbox\"> <a href='#llistremn'>Remove Nth Node From End Of List</a>\n",
    "- [Web Link](https://leetcode.com/problems/remove-nth-node-from-end-of-list/)\n",
    "\n",
    "<input type=\"checkbox\"> <a href='#llistreord'>Reorder List</a>\n",
    "- [Web Link](https://leetcode.com/problems/reorder-list/)"
   ]
  },
  {
   "cell_type": "markdown",
   "metadata": {},
   "source": [
    "<a id=\"matrix\"></a>\n",
    "## Matrix Problems\n",
    "------\n",
    "<a href=\"#top\">Top </a>\n",
    "\n",
    "<a href=\"#toc\">Table of Contents</a>\n",
    "\n",
    "<a href=\"#array\">Array</a> |\n",
    "<a href=\"#binary\">Binary</a> |\n",
    "<a href=\"#dynamic\">Dynamic Programming</a> |\n",
    "<a href=\"#graph\">Graph</a> |\n",
    "<a href=\"#interval\">Interval</a> |\n",
    "<a href=\"#linkedlist\">Linked List</a> |\n",
    "<a href=\"#matrix\">Matrix</a> |\n",
    "<a href=\"#string\">String</a> |\n",
    "<a href=\"#tree\">Tree</a> |\n",
    "<a href=\"#heap\">Heap</a>\n",
    "\n",
    "<a href=\"#workedproblems\">Worked Problems</a>\n",
    "\n",
    "------"
   ]
  },
  {
   "cell_type": "markdown",
   "metadata": {},
   "source": [
    "<input type=\"checkbox\"> <a href='#matset0'>Set Matrix Zeroes</a>\n",
    "- [Web Link](https://leetcode.com/problems/set-matrix-zeroes/)\n",
    "\n",
    "<input type=\"checkbox\"> <a href='#matspiral'>Spiral Matrix</a>\n",
    "- [Web Link](https://leetcode.com/problems/spiral-matrix/)\n",
    "\n",
    "<input type=\"checkbox\"> <a href='#matrotimg'>Rotate Image</a>\n",
    "- [Web Link](https://leetcode.com/problems/rotate-image/)\n",
    "\n",
    "<input type=\"checkbox\"> <a href='#matword'>Word Search</a>\n",
    "- [Web Link](https://leetcode.com/problems/word-search/)"
   ]
  },
  {
   "cell_type": "markdown",
   "metadata": {},
   "source": [
    "<a id=\"string\"></a>\n",
    "## String Problems\n",
    "------\n",
    "<a href=\"#top\">Top </a>\n",
    "\n",
    "<a href=\"#toc\">Table of Contents</a>\n",
    "\n",
    "- <a href=\"#array\">Array</a> |\n",
    "<a href=\"#binary\">Binary</a> |\n",
    "<a href=\"#dynamic\">Dynamic Programming</a> |\n",
    "<a href=\"#graph\">Graph</a> |\n",
    "<a href=\"#interval\">Interval</a> |\n",
    "<a href=\"#linkedlist\">Linked List</a> |\n",
    "<a href=\"#matrix\">Matrix</a> |\n",
    "<a href=\"#string\">String</a> |\n",
    "<a href=\"#tree\">Tree</a> |\n",
    "<a href=\"#heap\">Heap</a>\n",
    "\n",
    "<a href=\"#workedproblems\">Worked Problems</a>\n",
    "\n",
    "------"
   ]
  },
  {
   "cell_type": "markdown",
   "metadata": {},
   "source": [
    "<input type=\"checkbox\"> <a href='#strlongsub'>Longest Substring Without Repeating Characters</a>\n",
    "- [Web Link](https://leetcode.com/problems/longest-substring-without-repeating-characters/)\n",
    "\n",
    "<input type=\"checkbox\"> <a href='#strlongrep'>Longest Repeating Character Replacement</a>\n",
    "- [Web Link](https://leetcode.com/problems/longest-repeating-character-replacement/)\n",
    "\n",
    "<input type=\"checkbox\"> <a href='#strminwin'>Minimum Window Substring</a>\n",
    "- [Web Link](https://leetcode.com/problems/minimum-window-substring/)\n",
    "\n",
    "<input type=\"checkbox\"> <a href='#strvana'>Valid Anagram</a>\n",
    "- [Web Link](https://leetcode.com/problems/valid-anagram/)\n",
    "\n",
    "<input type=\"checkbox\"> <a href='#strgana'>Group Anagrams</a>\n",
    "- [Web Link](https://leetcode.com/problems/group-anagrams/)\n",
    "\n",
    "<input type=\"checkbox\"> <a href='#strvpar'>Valid Parentheses</a>\n",
    "- [Web Link](https://leetcode.com/problems/valid-parentheses/)\n",
    "\n",
    "<input type=\"checkbox\"> <a href='#strvpal'>Valid Palindrome</a>\n",
    "- [Web Link](https://leetcode.com/problems/valid-palindrome/)\n",
    "\n",
    "<input type=\"checkbox\"> <a href='#strlongpal'>Longest Palindromic Substring</a>\n",
    "- [Web Link](https://leetcode.com/problems/longest-palindromic-substring/)\n",
    "\n",
    "<input type=\"checkbox\"> <a href='#strpalsub'>Palindromic Substrings</a>\n",
    "- [Web Link](https://leetcode.com/problems/palindromic-substrings/)\n",
    "\n",
    "<input type=\"checkbox\"> <a href='#strendec'>Encode and Decode Strings (Leetcode Premium)</a>\n",
    "- [Web Link](https://leetcode.com/problems/encode-and-decode-strings/)"
   ]
  },
  {
   "cell_type": "markdown",
   "metadata": {},
   "source": [
    "<a id=\"tree\"></a>\n",
    "## Tree Problems\n",
    "------\n",
    "<a href=\"#top\">Top </a>\n",
    "\n",
    "<a href=\"#toc\">Table of Contents</a>\n",
    "\n",
    "- <a href=\"#array\">Array</a> |\n",
    "<a href=\"#binary\">Binary</a> |\n",
    "<a href=\"#dynamic\">Dynamic Programming</a> |\n",
    "<a href=\"#graph\">Graph</a> |\n",
    "<a href=\"#interval\">Interval</a> |\n",
    "<a href=\"#linkedlist\">Linked List</a> |\n",
    "<a href=\"#matrix\">Matrix</a> |\n",
    "<a href=\"#string\">String</a> |\n",
    "<a href=\"#tree\">Tree</a> |\n",
    "<a href=\"#heap\">Heap</a>\n",
    "\n",
    "<a href=\"#workedproblems\">Worked Problems</a>\n",
    "\n",
    "------"
   ]
  },
  {
   "cell_type": "markdown",
   "metadata": {},
   "source": [
    "<input type=\"checkbox\"> <a href='#treemaxdep'>Maximum Depth of Binary Tree</a>\n",
    "- [Web Link](https://leetcode.com/problems/maximum-depth-of-binary-tree/)\n",
    "\n",
    "<input type=\"checkbox\"> <a href='#treesame'>Same Tree</a>\n",
    "- [Web Link](https://leetcode.com/problems/same-tree/)\n",
    "\n",
    "<input type=\"checkbox\"> <a href='#treeinv'>Invert/Flip Binary Tree</a>\n",
    "- [Web Link](https://leetcode.com/problems/invert-binary-tree/)\n",
    "\n",
    "<input type=\"checkbox\"> <a href='#treemaxpath'>Binary Tree Maximum Path Sum</a>\n",
    "- [Web Link](https://leetcode.com/problems/binary-tree-maximum-path-sum/)\n",
    "\n",
    "<input type=\"checkbox\"> <a href='#treebinlvl'>Binary Tree Level Order Traversal</a>\n",
    "- [Web Link](https://leetcode.com/problems/binary-tree-level-order-traversal/)\n",
    "\n",
    "<input type=\"checkbox\"> <a href='#treeserial'>Serialize and Deserialize Binary Tree</a>\n",
    "- [Web Link](https://leetcode.com/problems/serialize-and-deserialize-binary-tree/)\n",
    "\n",
    "<input type=\"checkbox\"> <a href='#treesub'>Subtree of Another Tree</a>\n",
    "- [Web Link](https://leetcode.com/problems/subtree-of-another-tree/)\n",
    "\n",
    "<input type=\"checkbox\"> <a href='#treeconstrbin'>Construct Binary Tree from Preorder and Inorder Traversal</a>\n",
    "- [Web Link](https://leetcode.com/problems/construct-binary-tree-from-preorder-and-inorder-traversal/)\n",
    "\n",
    "<input type=\"checkbox\"> <a href='#treevbin'>Validate Binary Search Tree</a>\n",
    "- [Web Link](https://leetcode.com/problems/validate-binary-search-tree/)\n",
    "\n",
    "<input type=\"checkbox\"> <a href='#treeksmall'>Kth Smallest Element in a BST</a>\n",
    "- [Web Link](https://leetcode.com/problems/kth-smallest-element-in-a-bst/)\n",
    "\n",
    "<input type=\"checkbox\"> <a href='#treelca'>Lowest Common Ancestor of BST</a>\n",
    "- [Web Link](https://leetcode.com/problems/lowest-common-ancestor-of-a-binary-search-tree/)\n",
    "\n",
    "<input type=\"checkbox\"> <a href='#treeprefix'>Implement Trie (Prefix Tree)</a>\n",
    "- [Web Link](https://leetcode.com/problems/implement-trie-prefix-tree/)\n",
    "\n",
    "<input type=\"checkbox\"> <a href='#treesearch'>Add and Search Word</a>\n",
    "- [Web Link](https://leetcode.com/problems/add-and-search-word-data-structure-design/)\n",
    "\n",
    "<input type=\"checkbox\"> <a href='#treesearch2'>Word Search II</a>\n",
    "- [Web Link](https://leetcode.com/problems/word-search-ii/)"
   ]
  },
  {
   "cell_type": "markdown",
   "metadata": {},
   "source": [
    "<a id=\"heap\"></a>\n",
    "## Heap Problems\n",
    "------\n",
    "<a href=\"#top\">Top </a>\n",
    "\n",
    "<a href=\"#toc\">Table of Contents</a>\n",
    "\n",
    "- <a href=\"#array\">Array</a> |\n",
    "<a href=\"#binary\">Binary</a> |\n",
    "<a href=\"#dynamic\">Dynamic Programming</a> |\n",
    "<a href=\"#graph\">Graph</a> |\n",
    "<a href=\"#interval\">Interval</a> |\n",
    "<a href=\"#linkedlist\">Linked List</a> |\n",
    "<a href=\"#matrix\">Matrix</a> |\n",
    "<a href=\"#string\">String</a> |\n",
    "<a href=\"#tree\">Tree</a> |\n",
    "<a href=\"#heap\">Heap</a>\n",
    "\n",
    "<a href=\"#workedproblems\">Worked Problems</a>\n",
    "\n",
    "------"
   ]
  },
  {
   "cell_type": "markdown",
   "metadata": {},
   "source": [
    "<input type=\"checkbox\"> <a href='#mergeksort'>Merge K Sorted Lists</a>\n",
    "- [Web Link](https://leetcode.com/problems/merge-k-sorted-lists/)\n",
    "\n",
    "<input type=\"checkbox\"> <a href='#mergekfreq'>Top K Frequent Elements</a>\n",
    "- [Web Link](https://leetcode.com/problems/top-k-frequent-elements/)\n",
    "\n",
    "<input type=\"checkbox\"> <a href='#mergefmed'>Find Median from Data Stream</a>\n",
    "- [Web Link](https://leetcode.com/problems/find-median-from-data-stream/)\n"
   ]
  },
  {
   "cell_type": "markdown",
   "metadata": {},
   "source": [
    "<a id=\"workedproblems\"></a>\n",
    "# Worked Problems\n",
    "------\n",
    "<a href=\"#top\">Top </a>\n",
    "\n",
    "<a href=\"#toc\">Table of Contents</a>\n",
    "\n",
    "- <a href=\"#array\">Array</a> |\n",
    "<a href=\"#binary\">Binary</a> |\n",
    "<a href=\"#dynamic\">Dynamic Programming</a> |\n",
    "<a href=\"#graph\">Graph</a> |\n",
    "<a href=\"#interval\">Interval</a> |\n",
    "<a href=\"#linkedlist\">Linked List</a> |\n",
    "<a href=\"#matrix\">Matrix</a> |\n",
    "<a href=\"#string\">String</a> |\n",
    "<a href=\"#tree\">Tree</a> |\n",
    "<a href=\"#heap\">Heap</a>\n",
    "\n",
    "<a href=\"#workedproblems\">Worked Problems</a>\n",
    "\n",
    "------"
   ]
  },
  {
   "cell_type": "markdown",
   "metadata": {},
   "source": [
    "## Worked Array Problems"
   ]
  },
  {
   "cell_type": "markdown",
   "metadata": {},
   "source": [
    "<a id=\"arraytwosum\"></a>\n",
    "### Two Sum\n",
    "------\n",
    "<a href=\"#top\">Top </a>\n",
    "\n",
    "<a href=\"#toc\">Table of Contents</a>\n",
    "\n",
    "- <a href=\"#array\">Array</a> |\n",
    "<a href=\"#binary\">Binary</a> |\n",
    "<a href=\"#dynamic\">Dynamic Programming</a> |\n",
    "<a href=\"#graph\">Graph</a> |\n",
    "<a href=\"#interval\">Interval</a> |\n",
    "<a href=\"#linkedlist\">Linked List</a> |\n",
    "<a href=\"#matrix\">Matrix</a> |\n",
    "<a href=\"#string\">String</a> |\n",
    "<a href=\"#tree\">Tree</a> |\n",
    "<a href=\"#heap\">Heap</a>\n",
    "\n",
    "<a href=\"#workedproblems\">Worked Problems</a>\n",
    "\n",
    "------"
   ]
  },
  {
   "cell_type": "markdown",
   "metadata": {},
   "source": [
    "#### Notes"
   ]
  },
  {
   "cell_type": "markdown",
   "metadata": {},
   "source": [
    "`Double-click` or press `Enter` and type some notes in this cell"
   ]
  },
  {
   "cell_type": "markdown",
   "metadata": {},
   "source": [
    "#### Code"
   ]
  },
  {
   "cell_type": "code",
   "execution_count": 1,
   "metadata": {},
   "outputs": [],
   "source": [
    "# Implement Solution here"
   ]
  },
  {
   "cell_type": "markdown",
   "metadata": {},
   "source": [
    "<a id=\"arraystock\"></a>\n",
    "### Best Time to Buy and sell stock\n",
    "------\n",
    "<a href=\"#top\">Top </a>\n",
    "\n",
    "<a href=\"#toc\">Table of Contents</a>\n",
    "\n",
    "- <a href=\"#array\">Array</a> |\n",
    "<a href=\"#binary\">Binary</a> |\n",
    "<a href=\"#dynamic\">Dynamic Programming</a> |\n",
    "<a href=\"#graph\">Graph</a> |\n",
    "<a href=\"#interval\">Interval</a> |\n",
    "<a href=\"#linkedlist\">Linked List</a> |\n",
    "<a href=\"#matrix\">Matrix</a> |\n",
    "<a href=\"#string\">String</a> |\n",
    "<a href=\"#tree\">Tree</a> |\n",
    "<a href=\"#heap\">Heap</a>\n",
    "\n",
    "<a href=\"#workedproblems\">Worked Problems</a>\n",
    "\n",
    "------"
   ]
  },
  {
   "cell_type": "markdown",
   "metadata": {},
   "source": [
    "#### Notes"
   ]
  },
  {
   "cell_type": "markdown",
   "metadata": {},
   "source": [
    "`Double-click` or press `Enter` and type some notes in this cell"
   ]
  },
  {
   "cell_type": "markdown",
   "metadata": {},
   "source": [
    "#### Code"
   ]
  },
  {
   "cell_type": "code",
   "execution_count": 2,
   "metadata": {},
   "outputs": [],
   "source": [
    "# Implement Solution here"
   ]
  },
  {
   "cell_type": "markdown",
   "metadata": {},
   "source": [
    "<a id=\"arrayduplicate\"></a>\n",
    "### Contains Duplicate\n",
    "------\n",
    "<a href=\"#top\">Top </a>\n",
    "\n",
    "<a href=\"#toc\">Table of Contents</a>\n",
    "\n",
    "- <a href=\"#array\">Array</a> |\n",
    "<a href=\"#binary\">Binary</a> |\n",
    "<a href=\"#dynamic\">Dynamic Programming</a> |\n",
    "<a href=\"#graph\">Graph</a> |\n",
    "<a href=\"#interval\">Interval</a> |\n",
    "<a href=\"#linkedlist\">Linked List</a> |\n",
    "<a href=\"#matrix\">Matrix</a> |\n",
    "<a href=\"#string\">String</a> |\n",
    "<a href=\"#tree\">Tree</a> |\n",
    "<a href=\"#heap\">Heap</a>\n",
    "\n",
    "<a href=\"#workedproblems\">Worked Problems</a>\n",
    "\n",
    "------"
   ]
  },
  {
   "cell_type": "markdown",
   "metadata": {},
   "source": [
    "#### Notes"
   ]
  },
  {
   "cell_type": "markdown",
   "metadata": {},
   "source": [
    "`Double-click` or press `Enter` and type some notes in this cell"
   ]
  },
  {
   "cell_type": "markdown",
   "metadata": {},
   "source": [
    "#### Code"
   ]
  },
  {
   "cell_type": "code",
   "execution_count": 3,
   "metadata": {},
   "outputs": [],
   "source": [
    "# Implement Solution here"
   ]
  },
  {
   "cell_type": "markdown",
   "metadata": {},
   "source": [
    "<a id=\"arrayself\"></a>\n",
    "### Product of Array Except Self\n",
    "------\n",
    "<a href=\"#top\">Top </a>\n",
    "\n",
    "<a href=\"#toc\">Table of Contents</a>\n",
    "\n",
    "- <a href=\"#array\">Array</a> |\n",
    "<a href=\"#binary\">Binary</a> |\n",
    "<a href=\"#dynamic\">Dynamic Programming</a> |\n",
    "<a href=\"#graph\">Graph</a> |\n",
    "<a href=\"#interval\">Interval</a> |\n",
    "<a href=\"#linkedlist\">Linked List</a> |\n",
    "<a href=\"#matrix\">Matrix</a> |\n",
    "<a href=\"#string\">String</a> |\n",
    "<a href=\"#tree\">Tree</a> |\n",
    "<a href=\"#heap\">Heap</a>\n",
    "\n",
    "<a href=\"#workedproblems\">Worked Problems</a>\n",
    "\n",
    "------"
   ]
  },
  {
   "cell_type": "markdown",
   "metadata": {},
   "source": [
    "#### Notes"
   ]
  },
  {
   "cell_type": "markdown",
   "metadata": {},
   "source": [
    "`Double-click` or press `Enter` and type some notes in this cell"
   ]
  },
  {
   "cell_type": "markdown",
   "metadata": {},
   "source": [
    "#### Code"
   ]
  },
  {
   "cell_type": "code",
   "execution_count": 4,
   "metadata": {},
   "outputs": [],
   "source": [
    "# Implement Solution here"
   ]
  },
  {
   "cell_type": "markdown",
   "metadata": {},
   "source": [
    "<a id=\"arraymaxsub\"></a>\n",
    "### Maximum Subarray\n",
    "------\n",
    "<a href=\"#top\">Top </a>\n",
    "\n",
    "<a href=\"#toc\">Table of Contents</a>\n",
    "\n",
    "- <a href=\"#array\">Array</a> |\n",
    "<a href=\"#binary\">Binary</a> |\n",
    "<a href=\"#dynamic\">Dynamic Programming</a> |\n",
    "<a href=\"#graph\">Graph</a> |\n",
    "<a href=\"#interval\">Interval</a> |\n",
    "<a href=\"#linkedlist\">Linked List</a> |\n",
    "<a href=\"#matrix\">Matrix</a> |\n",
    "<a href=\"#string\">String</a> |\n",
    "<a href=\"#tree\">Tree</a> |\n",
    "<a href=\"#heap\">Heap</a>\n",
    "\n",
    "<a href=\"#workedproblems\">Worked Problems</a>\n",
    "\n",
    "------"
   ]
  },
  {
   "cell_type": "markdown",
   "metadata": {},
   "source": [
    "#### Notes"
   ]
  },
  {
   "cell_type": "markdown",
   "metadata": {},
   "source": [
    "`Double-click` or press `Enter` and type some notes in this cell"
   ]
  },
  {
   "cell_type": "markdown",
   "metadata": {},
   "source": [
    "#### Code"
   ]
  },
  {
   "cell_type": "code",
   "execution_count": 5,
   "metadata": {},
   "outputs": [],
   "source": [
    "# Implement Solution here"
   ]
  },
  {
   "cell_type": "markdown",
   "metadata": {},
   "source": [
    "<a id=\"arrayproductmaxsub\"></a>\n",
    "### Maximum Product Subarray\n",
    "------\n",
    "<a href=\"#top\">Top </a>\n",
    "\n",
    "<a href=\"#toc\">Table of Contents</a>\n",
    "\n",
    "- <a href=\"#array\">Array</a> |\n",
    "<a href=\"#binary\">Binary</a> |\n",
    "<a href=\"#dynamic\">Dynamic Programming</a> |\n",
    "<a href=\"#graph\">Graph</a> |\n",
    "<a href=\"#interval\">Interval</a> |\n",
    "<a href=\"#linkedlist\">Linked List</a> |\n",
    "<a href=\"#matrix\">Matrix</a> |\n",
    "<a href=\"#string\">String</a> |\n",
    "<a href=\"#tree\">Tree</a> |\n",
    "<a href=\"#heap\">Heap</a>\n",
    "\n",
    "<a href=\"#workedproblems\">Worked Problems</a>\n",
    "\n",
    "------"
   ]
  },
  {
   "cell_type": "markdown",
   "metadata": {},
   "source": [
    "#### Notes"
   ]
  },
  {
   "cell_type": "markdown",
   "metadata": {},
   "source": [
    "`Double-click` or press `Enter` and type some notes in this cell"
   ]
  },
  {
   "cell_type": "markdown",
   "metadata": {},
   "source": [
    "#### Code"
   ]
  },
  {
   "cell_type": "code",
   "execution_count": 6,
   "metadata": {},
   "outputs": [],
   "source": [
    "# Implement Solution here"
   ]
  },
  {
   "cell_type": "markdown",
   "metadata": {},
   "source": [
    "<a id=\"arrayminrotated\"></a>\n",
    "### Find Minimum in Rotated Sorted Array\n",
    "------\n",
    "<a href=\"#top\">Top </a>\n",
    "\n",
    "<a href=\"#toc\">Table of Contents</a>\n",
    "\n",
    "- <a href=\"#array\">Array</a> |\n",
    "<a href=\"#binary\">Binary</a> |\n",
    "<a href=\"#dynamic\">Dynamic Programming</a> |\n",
    "<a href=\"#graph\">Graph</a> |\n",
    "<a href=\"#interval\">Interval</a> |\n",
    "<a href=\"#linkedlist\">Linked List</a> |\n",
    "<a href=\"#matrix\">Matrix</a> |\n",
    "<a href=\"#string\">String</a> |\n",
    "<a href=\"#tree\">Tree</a> |\n",
    "<a href=\"#heap\">Heap</a>\n",
    "\n",
    "<a href=\"#workedproblems\">Worked Problems</a>\n",
    "\n",
    "------"
   ]
  },
  {
   "cell_type": "markdown",
   "metadata": {},
   "source": [
    "#### Notes"
   ]
  },
  {
   "cell_type": "markdown",
   "metadata": {},
   "source": [
    "`Double-click` or press `Enter` and type some notes in this cell"
   ]
  },
  {
   "cell_type": "markdown",
   "metadata": {},
   "source": [
    "#### Code"
   ]
  },
  {
   "cell_type": "code",
   "execution_count": 7,
   "metadata": {},
   "outputs": [],
   "source": [
    "# Implement Solution here"
   ]
  },
  {
   "cell_type": "markdown",
   "metadata": {},
   "source": [
    "<a id=\"arraysearchrotated\"></a>\n",
    "### Search in Rotated Sorted Array\n",
    "------\n",
    "<a href=\"#top\">Top </a>\n",
    "\n",
    "<a href=\"#toc\">Table of Contents</a>\n",
    "\n",
    "- <a href=\"#array\">Array</a> |\n",
    "<a href=\"#binary\">Binary</a> |\n",
    "<a href=\"#dynamic\">Dynamic Programming</a> |\n",
    "<a href=\"#graph\">Graph</a> |\n",
    "<a href=\"#interval\">Interval</a> |\n",
    "<a href=\"#linkedlist\">Linked List</a> |\n",
    "<a href=\"#matrix\">Matrix</a> |\n",
    "<a href=\"#string\">String</a> |\n",
    "<a href=\"#tree\">Tree</a> |\n",
    "<a href=\"#heap\">Heap</a>\n",
    "\n",
    "<a href=\"#workedproblems\">Worked Problems</a>\n",
    "\n",
    "------"
   ]
  },
  {
   "cell_type": "markdown",
   "metadata": {},
   "source": [
    "#### Notes"
   ]
  },
  {
   "cell_type": "markdown",
   "metadata": {},
   "source": [
    "`Double-click` or press `Enter` and type some notes in this cell"
   ]
  },
  {
   "cell_type": "markdown",
   "metadata": {},
   "source": [
    "#### Code"
   ]
  },
  {
   "cell_type": "code",
   "execution_count": 8,
   "metadata": {},
   "outputs": [],
   "source": [
    "# Implement Solution here"
   ]
  },
  {
   "cell_type": "markdown",
   "metadata": {},
   "source": [
    "<a id=\"array3sum\"></a>\n",
    "### 3 Sum\n",
    "------\n",
    "<a href=\"#top\">Top </a>\n",
    "\n",
    "<a href=\"#toc\">Table of Contents</a>\n",
    "\n",
    "- <a href=\"#array\">Array</a> |\n",
    "<a href=\"#binary\">Binary</a> |\n",
    "<a href=\"#dynamic\">Dynamic Programming</a> |\n",
    "<a href=\"#graph\">Graph</a> |\n",
    "<a href=\"#interval\">Interval</a> |\n",
    "<a href=\"#linkedlist\">Linked List</a> |\n",
    "<a href=\"#matrix\">Matrix</a> |\n",
    "<a href=\"#string\">String</a> |\n",
    "<a href=\"#tree\">Tree</a> |\n",
    "<a href=\"#heap\">Heap</a>\n",
    "\n",
    "<a href=\"#workedproblems\">Worked Problems</a>\n",
    "\n",
    "------"
   ]
  },
  {
   "cell_type": "markdown",
   "metadata": {},
   "source": [
    "#### Notes"
   ]
  },
  {
   "cell_type": "markdown",
   "metadata": {},
   "source": [
    "`Double-click` or press `Enter` and type some notes in this cell"
   ]
  },
  {
   "cell_type": "markdown",
   "metadata": {},
   "source": [
    "#### Code"
   ]
  },
  {
   "cell_type": "code",
   "execution_count": 9,
   "metadata": {},
   "outputs": [],
   "source": [
    "# Implement Solution here"
   ]
  },
  {
   "cell_type": "markdown",
   "metadata": {},
   "source": [
    "<a id=\"arraywater\"></a>\n",
    "### Container With Most Water\n",
    "------\n",
    "<a href=\"#top\">Top </a>\n",
    "\n",
    "<a href=\"#toc\">Table of Contents</a>\n",
    "\n",
    "- <a href=\"#array\">Array</a> |\n",
    "<a href=\"#binary\">Binary</a> |\n",
    "<a href=\"#dynamic\">Dynamic Programming</a> |\n",
    "<a href=\"#graph\">Graph</a> |\n",
    "<a href=\"#interval\">Interval</a> |\n",
    "<a href=\"#linkedlist\">Linked List</a> |\n",
    "<a href=\"#matrix\">Matrix</a> |\n",
    "<a href=\"#string\">String</a> |\n",
    "<a href=\"#tree\">Tree</a> |\n",
    "<a href=\"#heap\">Heap</a>\n",
    "\n",
    "<a href=\"#workedproblems\">Worked Problems</a>\n",
    "\n",
    "------"
   ]
  },
  {
   "cell_type": "markdown",
   "metadata": {},
   "source": [
    "#### Notes"
   ]
  },
  {
   "cell_type": "markdown",
   "metadata": {},
   "source": [
    "`Double-click` or press `Enter` and type some notes in this cell"
   ]
  },
  {
   "cell_type": "markdown",
   "metadata": {},
   "source": [
    "#### Code"
   ]
  },
  {
   "cell_type": "code",
   "execution_count": 10,
   "metadata": {},
   "outputs": [],
   "source": [
    "# Implement Solution here"
   ]
  },
  {
   "cell_type": "markdown",
   "metadata": {},
   "source": [
    "\n",
    "## Worked Binary Problems\n"
   ]
  },
  {
   "cell_type": "markdown",
   "metadata": {},
   "source": [
    "<a id=\"binsum2int\"></a>\n",
    "### Sum of Two Integers\n",
    "------\n",
    "<a href=\"#top\">Top </a>\n",
    "\n",
    "<a href=\"#toc\">Table of Contents</a>\n",
    "\n",
    "- <a href=\"#array\">Array</a> |\n",
    "<a href=\"#binary\">Binary</a> |\n",
    "<a href=\"#dynamic\">Dynamic Programming</a> |\n",
    "<a href=\"#graph\">Graph</a> |\n",
    "<a href=\"#interval\">Interval</a> |\n",
    "<a href=\"#linkedlist\">Linked List</a> |\n",
    "<a href=\"#matrix\">Matrix</a> |\n",
    "<a href=\"#string\">String</a> |\n",
    "<a href=\"#tree\">Tree</a> |\n",
    "<a href=\"#heap\">Heap</a>\n",
    "\n",
    "<a href=\"#workedproblems\">Worked Problems</a>\n",
    "\n",
    "------"
   ]
  },
  {
   "cell_type": "markdown",
   "metadata": {},
   "source": [
    "#### Notes"
   ]
  },
  {
   "cell_type": "markdown",
   "metadata": {},
   "source": [
    "`Double-click` or press `Enter` and type some notes in this cell"
   ]
  },
  {
   "cell_type": "markdown",
   "metadata": {},
   "source": [
    "#### Code"
   ]
  },
  {
   "cell_type": "code",
   "execution_count": 11,
   "metadata": {},
   "outputs": [],
   "source": [
    "# Implement Solution here"
   ]
  },
  {
   "cell_type": "markdown",
   "metadata": {},
   "source": [
    "<a id=\"binnum1bit\"></a>\n",
    "### Number of 1 Bits\n",
    "------\n",
    "<a href=\"#top\">Top </a>\n",
    "\n",
    "<a href=\"#toc\">Table of Contents</a>\n",
    "\n",
    "- <a href=\"#array\">Array</a> |\n",
    "<a href=\"#binary\">Binary</a> |\n",
    "<a href=\"#dynamic\">Dynamic Programming</a> |\n",
    "<a href=\"#graph\">Graph</a> |\n",
    "<a href=\"#interval\">Interval</a> |\n",
    "<a href=\"#linkedlist\">Linked List</a> |\n",
    "<a href=\"#matrix\">Matrix</a> |\n",
    "<a href=\"#string\">String</a> |\n",
    "<a href=\"#tree\">Tree</a> |\n",
    "<a href=\"#heap\">Heap</a>\n",
    "\n",
    "<a href=\"#workedproblems\">Worked Problems</a>\n",
    "\n",
    "------"
   ]
  },
  {
   "cell_type": "markdown",
   "metadata": {},
   "source": [
    "#### Notes"
   ]
  },
  {
   "cell_type": "markdown",
   "metadata": {},
   "source": [
    "`Double-click` or press `Enter` and type some notes in this cell"
   ]
  },
  {
   "cell_type": "markdown",
   "metadata": {},
   "source": [
    "#### Code"
   ]
  },
  {
   "cell_type": "code",
   "execution_count": 12,
   "metadata": {},
   "outputs": [],
   "source": [
    "# Implement Solution here"
   ]
  },
  {
   "cell_type": "markdown",
   "metadata": {},
   "source": [
    "<a id=\"bincountbits\"></a>\n",
    "### Counting Bits\n",
    "------\n",
    "<a href=\"#top\">Top </a>\n",
    "\n",
    "<a href=\"#toc\">Table of Contents</a>\n",
    "\n",
    "- <a href=\"#array\">Array</a> |\n",
    "<a href=\"#binary\">Binary</a> |\n",
    "<a href=\"#dynamic\">Dynamic Programming</a> |\n",
    "<a href=\"#graph\">Graph</a> |\n",
    "<a href=\"#interval\">Interval</a> |\n",
    "<a href=\"#linkedlist\">Linked List</a> |\n",
    "<a href=\"#matrix\">Matrix</a> |\n",
    "<a href=\"#string\">String</a> |\n",
    "<a href=\"#tree\">Tree</a> |\n",
    "<a href=\"#heap\">Heap</a>\n",
    "\n",
    "<a href=\"#workedproblems\">Worked Problems</a>\n",
    "\n",
    "------"
   ]
  },
  {
   "cell_type": "markdown",
   "metadata": {},
   "source": [
    "#### Notes"
   ]
  },
  {
   "cell_type": "markdown",
   "metadata": {},
   "source": [
    "`Double-click` or press `Enter` and type some notes in this cell"
   ]
  },
  {
   "cell_type": "markdown",
   "metadata": {},
   "source": [
    "#### Code"
   ]
  },
  {
   "cell_type": "code",
   "execution_count": 13,
   "metadata": {},
   "outputs": [],
   "source": [
    "# Implement Solution here"
   ]
  },
  {
   "cell_type": "markdown",
   "metadata": {},
   "source": [
    "<a id=\"binmissnum\"></a>\n",
    "### Missing Number\n",
    "------\n",
    "<a href=\"#top\">Top </a>\n",
    "\n",
    "<a href=\"#toc\">Table of Contents</a>\n",
    "\n",
    "- <a href=\"#array\">Array</a> |\n",
    "<a href=\"#binary\">Binary</a> |\n",
    "<a href=\"#dynamic\">Dynamic Programming</a> |\n",
    "<a href=\"#graph\">Graph</a> |\n",
    "<a href=\"#interval\">Interval</a> |\n",
    "<a href=\"#linkedlist\">Linked List</a> |\n",
    "<a href=\"#matrix\">Matrix</a> |\n",
    "<a href=\"#string\">String</a> |\n",
    "<a href=\"#tree\">Tree</a> |\n",
    "<a href=\"#heap\">Heap</a>\n",
    "\n",
    "<a href=\"#workedproblems\">Worked Problems</a>\n",
    "\n",
    "------"
   ]
  },
  {
   "cell_type": "markdown",
   "metadata": {},
   "source": [
    "#### Notes"
   ]
  },
  {
   "cell_type": "markdown",
   "metadata": {},
   "source": [
    "`Double-click` or press `Enter` and type some notes in this cell"
   ]
  },
  {
   "cell_type": "markdown",
   "metadata": {},
   "source": [
    "#### Code"
   ]
  },
  {
   "cell_type": "code",
   "execution_count": 14,
   "metadata": {},
   "outputs": [],
   "source": [
    "# Implement Solution here"
   ]
  },
  {
   "cell_type": "markdown",
   "metadata": {},
   "source": [
    "<a id=\"binrevbits\"></a>\n",
    "### Reverse Bits\n",
    "------\n",
    "<a href=\"#top\">Top </a>\n",
    "\n",
    "<a href=\"#toc\">Table of Contents</a>\n",
    "\n",
    "- <a href=\"#array\">Array</a> |\n",
    "<a href=\"#binary\">Binary</a> |\n",
    "<a href=\"#dynamic\">Dynamic Programming</a> |\n",
    "<a href=\"#graph\">Graph</a> |\n",
    "<a href=\"#interval\">Interval</a> |\n",
    "<a href=\"#linkedlist\">Linked List</a> |\n",
    "<a href=\"#matrix\">Matrix</a> |\n",
    "<a href=\"#string\">String</a> |\n",
    "<a href=\"#tree\">Tree</a> |\n",
    "<a href=\"#heap\">Heap</a>\n",
    "\n",
    "<a href=\"#workedproblems\">Worked Problems</a>\n",
    "\n",
    "------"
   ]
  },
  {
   "cell_type": "markdown",
   "metadata": {},
   "source": [
    "#### Notes"
   ]
  },
  {
   "cell_type": "markdown",
   "metadata": {},
   "source": [
    "`Double-click` or press `Enter` and type some notes in this cell"
   ]
  },
  {
   "cell_type": "markdown",
   "metadata": {},
   "source": [
    "#### Code"
   ]
  },
  {
   "cell_type": "code",
   "execution_count": 15,
   "metadata": {},
   "outputs": [],
   "source": [
    "# Implement Solution here"
   ]
  },
  {
   "cell_type": "markdown",
   "metadata": {},
   "source": [
    "\n",
    "## Worked Dynamic Programming Problems\n"
   ]
  },
  {
   "cell_type": "markdown",
   "metadata": {},
   "source": [
    "<a id=\"dynstairs\"></a>\n",
    "### Climbing Stairs\n",
    "------\n",
    "<a href=\"#top\">Top </a>\n",
    "\n",
    "<a href=\"#toc\">Table of Contents</a>\n",
    "\n",
    "- <a href=\"#array\">Array</a> |\n",
    "<a href=\"#binary\">Binary</a> |\n",
    "<a href=\"#dynamic\">Dynamic Programming</a> |\n",
    "<a href=\"#graph\">Graph</a> |\n",
    "<a href=\"#interval\">Interval</a> |\n",
    "<a href=\"#linkedlist\">Linked List</a> |\n",
    "<a href=\"#matrix\">Matrix</a> |\n",
    "<a href=\"#string\">String</a> |\n",
    "<a href=\"#tree\">Tree</a> |\n",
    "<a href=\"#heap\">Heap</a>\n",
    "\n",
    "<a href=\"#workedproblems\">Worked Problems</a>\n",
    "\n",
    "------"
   ]
  },
  {
   "cell_type": "markdown",
   "metadata": {},
   "source": [
    "#### Notes"
   ]
  },
  {
   "cell_type": "markdown",
   "metadata": {},
   "source": [
    "`Double-click` or press `Enter` and type some notes in this cell"
   ]
  },
  {
   "cell_type": "markdown",
   "metadata": {},
   "source": [
    "#### Code"
   ]
  },
  {
   "cell_type": "code",
   "execution_count": 16,
   "metadata": {},
   "outputs": [],
   "source": [
    "# Implement Solution here"
   ]
  },
  {
   "cell_type": "markdown",
   "metadata": {},
   "source": [
    "<a id=\"dyncoin\"></a>\n",
    "### Coin Change\n",
    "------\n",
    "<a href=\"#top\">Top </a>\n",
    "\n",
    "<a href=\"#toc\">Table of Contents</a>\n",
    "\n",
    "- <a href=\"#array\">Array</a> |\n",
    "<a href=\"#binary\">Binary</a> |\n",
    "<a href=\"#dynamic\">Dynamic Programming</a> |\n",
    "<a href=\"#graph\">Graph</a> |\n",
    "<a href=\"#interval\">Interval</a> |\n",
    "<a href=\"#linkedlist\">Linked List</a> |\n",
    "<a href=\"#matrix\">Matrix</a> |\n",
    "<a href=\"#string\">String</a> |\n",
    "<a href=\"#tree\">Tree</a> |\n",
    "<a href=\"#heap\">Heap</a>\n",
    "\n",
    "<a href=\"#workedproblems\">Worked Problems</a>\n",
    "\n",
    "------"
   ]
  },
  {
   "cell_type": "markdown",
   "metadata": {},
   "source": [
    "#### Notes"
   ]
  },
  {
   "cell_type": "markdown",
   "metadata": {},
   "source": [
    "`Double-click` or press `Enter` and type some notes in this cell"
   ]
  },
  {
   "cell_type": "markdown",
   "metadata": {},
   "source": [
    "#### Code"
   ]
  },
  {
   "cell_type": "code",
   "execution_count": 17,
   "metadata": {},
   "outputs": [],
   "source": [
    "# Implement Solution here"
   ]
  },
  {
   "cell_type": "markdown",
   "metadata": {},
   "source": [
    "<a id=\"dynincsub\"></a>\n",
    "### Longest Increasing Subsequence\n",
    "------\n",
    "<a href=\"#top\">Top </a>\n",
    "\n",
    "<a href=\"#toc\">Table of Contents</a>\n",
    "\n",
    "- <a href=\"#array\">Array</a> |\n",
    "<a href=\"#binary\">Binary</a> |\n",
    "<a href=\"#dynamic\">Dynamic Programming</a> |\n",
    "<a href=\"#graph\">Graph</a> |\n",
    "<a href=\"#interval\">Interval</a> |\n",
    "<a href=\"#linkedlist\">Linked List</a> |\n",
    "<a href=\"#matrix\">Matrix</a> |\n",
    "<a href=\"#string\">String</a> |\n",
    "<a href=\"#tree\">Tree</a> |\n",
    "<a href=\"#heap\">Heap</a>\n",
    "\n",
    "<a href=\"#workedproblems\">Worked Problems</a>\n",
    "\n",
    "------"
   ]
  },
  {
   "cell_type": "markdown",
   "metadata": {},
   "source": [
    "#### Notes"
   ]
  },
  {
   "cell_type": "markdown",
   "metadata": {},
   "source": [
    "`Double-click` or press `Enter` and type some notes in this cell"
   ]
  },
  {
   "cell_type": "markdown",
   "metadata": {},
   "source": [
    "#### Code"
   ]
  },
  {
   "cell_type": "code",
   "execution_count": 18,
   "metadata": {},
   "outputs": [],
   "source": [
    "# Implement Solution here"
   ]
  },
  {
   "cell_type": "markdown",
   "metadata": {},
   "source": [
    "<a id=\"dyncommsub\"></a>\n",
    "### Longest Common Subsequence\n",
    "------\n",
    "<a href=\"#top\">Top </a>\n",
    "\n",
    "<a href=\"#toc\">Table of Contents</a>\n",
    "\n",
    "- <a href=\"#array\">Array</a> |\n",
    "<a href=\"#binary\">Binary</a> |\n",
    "<a href=\"#dynamic\">Dynamic Programming</a> |\n",
    "<a href=\"#graph\">Graph</a> |\n",
    "<a href=\"#interval\">Interval</a> |\n",
    "<a href=\"#linkedlist\">Linked List</a> |\n",
    "<a href=\"#matrix\">Matrix</a> |\n",
    "<a href=\"#string\">String</a> |\n",
    "<a href=\"#tree\">Tree</a> |\n",
    "<a href=\"#heap\">Heap</a>\n",
    "\n",
    "<a href=\"#workedproblems\">Worked Problems</a>\n",
    "\n",
    "------"
   ]
  },
  {
   "cell_type": "markdown",
   "metadata": {},
   "source": [
    "#### Notes"
   ]
  },
  {
   "cell_type": "markdown",
   "metadata": {},
   "source": [
    "`Double-click` or press `Enter` and type some notes in this cell"
   ]
  },
  {
   "cell_type": "markdown",
   "metadata": {},
   "source": [
    "#### Code"
   ]
  },
  {
   "cell_type": "code",
   "execution_count": 19,
   "metadata": {},
   "outputs": [],
   "source": [
    "# Implement Solution here"
   ]
  },
  {
   "cell_type": "markdown",
   "metadata": {},
   "source": [
    "<a id=\"dynwordbr\"></a>\n",
    "### Word Break Problem\n",
    "------\n",
    "\n",
    "<a href=\"#top\">Top </a>\n",
    "\n",
    "<a href=\"#toc\">Table of Contents</a>\n",
    "\n",
    "- <a href=\"#array\">Array</a> |\n",
    "<a href=\"#binary\">Binary</a> |\n",
    "<a href=\"#dynamic\">Dynamic Programming</a> |\n",
    "<a href=\"#graph\">Graph</a> |\n",
    "<a href=\"#interval\">Interval</a> |\n",
    "<a href=\"#linkedlist\">Linked List</a> |\n",
    "<a href=\"#matrix\">Matrix</a> |\n",
    "<a href=\"#string\">String</a> |\n",
    "<a href=\"#tree\">Tree</a> |\n",
    "<a href=\"#heap\">Heap</a>\n",
    "\n",
    "<a href=\"#workedproblems\">Worked Problems</a>\n",
    "\n",
    "------"
   ]
  },
  {
   "cell_type": "markdown",
   "metadata": {},
   "source": [
    "#### Notes"
   ]
  },
  {
   "cell_type": "markdown",
   "metadata": {},
   "source": [
    "`Double-click` or press `Enter` and type some notes in this cell"
   ]
  },
  {
   "cell_type": "markdown",
   "metadata": {},
   "source": [
    "#### Code"
   ]
  },
  {
   "cell_type": "code",
   "execution_count": 20,
   "metadata": {},
   "outputs": [],
   "source": [
    "# Implement Solution here"
   ]
  },
  {
   "cell_type": "markdown",
   "metadata": {},
   "source": [
    "<a id='dyncombsum'></a>\n",
    "### Combination Sum\n",
    "------\n",
    "<a href=\"#top\">Top </a>\n",
    "\n",
    "<a href=\"#toc\">Table of Contents</a>\n",
    "\n",
    "- <a href=\"#array\">Array</a> |\n",
    "<a href=\"#binary\">Binary</a> |\n",
    "<a href=\"#dynamic\">Dynamic Programming</a> |\n",
    "<a href=\"#graph\">Graph</a> |\n",
    "<a href=\"#interval\">Interval</a> |\n",
    "<a href=\"#linkedlist\">Linked List</a> |\n",
    "<a href=\"#matrix\">Matrix</a> |\n",
    "<a href=\"#string\">String</a> |\n",
    "<a href=\"#tree\">Tree</a> |\n",
    "<a href=\"#heap\">Heap</a>\n",
    "\n",
    "<a href=\"#workedproblems\">Worked Problems</a>\n",
    "\n",
    "------"
   ]
  },
  {
   "cell_type": "markdown",
   "metadata": {},
   "source": [
    "#### Notes"
   ]
  },
  {
   "cell_type": "markdown",
   "metadata": {},
   "source": [
    "`Double-click` or press `Enter` and type some notes in this cell"
   ]
  },
  {
   "cell_type": "markdown",
   "metadata": {},
   "source": [
    "#### Code"
   ]
  },
  {
   "cell_type": "code",
   "execution_count": 21,
   "metadata": {},
   "outputs": [],
   "source": [
    "# Implement Solution here"
   ]
  },
  {
   "cell_type": "markdown",
   "metadata": {},
   "source": [
    "<a id='dynrob'></a>\n",
    "### House Robber\n",
    "------\n",
    "<a href=\"#top\">Top </a>\n",
    "\n",
    "<a href=\"#toc\">Table of Contents</a>\n",
    "\n",
    "- <a href=\"#array\">Array</a> |\n",
    "<a href=\"#binary\">Binary</a> |\n",
    "<a href=\"#dynamic\">Dynamic Programming</a> |\n",
    "<a href=\"#graph\">Graph</a> |\n",
    "<a href=\"#interval\">Interval</a> |\n",
    "<a href=\"#linkedlist\">Linked List</a> |\n",
    "<a href=\"#matrix\">Matrix</a> |\n",
    "<a href=\"#string\">String</a> |\n",
    "<a href=\"#tree\">Tree</a> |\n",
    "<a href=\"#heap\">Heap</a>\n",
    "\n",
    "<a href=\"#workedproblems\">Worked Problems</a>\n",
    "\n",
    "------"
   ]
  },
  {
   "cell_type": "markdown",
   "metadata": {},
   "source": [
    "#### Notes"
   ]
  },
  {
   "cell_type": "markdown",
   "metadata": {},
   "source": [
    "`Double-click` or press `Enter` and type some notes in this cell"
   ]
  },
  {
   "cell_type": "markdown",
   "metadata": {},
   "source": [
    "#### Code"
   ]
  },
  {
   "cell_type": "code",
   "execution_count": 22,
   "metadata": {},
   "outputs": [],
   "source": [
    "# Implement Solution here"
   ]
  },
  {
   "cell_type": "markdown",
   "metadata": {},
   "source": [
    "<a id='dynrob2'></a>\n",
    "### House Robber II\n",
    "------\n",
    "<a href=\"#top\">Top </a>\n",
    "\n",
    "<a href=\"#toc\">Table of Contents</a>\n",
    "\n",
    "- <a href=\"#array\">Array</a> |\n",
    "<a href=\"#binary\">Binary</a> |\n",
    "<a href=\"#dynamic\">Dynamic Programming</a> |\n",
    "<a href=\"#graph\">Graph</a> |\n",
    "<a href=\"#interval\">Interval</a> |\n",
    "<a href=\"#linkedlist\">Linked List</a> |\n",
    "<a href=\"#matrix\">Matrix</a> |\n",
    "<a href=\"#string\">String</a> |\n",
    "<a href=\"#tree\">Tree</a> |\n",
    "<a href=\"#heap\">Heap</a>\n",
    "\n",
    "<a href=\"#workedproblems\">Worked Problems</a>\n",
    "\n",
    "------"
   ]
  },
  {
   "cell_type": "markdown",
   "metadata": {},
   "source": [
    "#### Notes"
   ]
  },
  {
   "cell_type": "markdown",
   "metadata": {},
   "source": [
    "`Double-click` or press `Enter` and type some notes in this cell"
   ]
  },
  {
   "cell_type": "markdown",
   "metadata": {},
   "source": [
    "#### Code"
   ]
  },
  {
   "cell_type": "code",
   "execution_count": 23,
   "metadata": {},
   "outputs": [],
   "source": [
    "# Implement Solution here"
   ]
  },
  {
   "cell_type": "markdown",
   "metadata": {},
   "source": [
    "<a id='dyndecways'></a>\n",
    "### Decode Ways\n",
    "------\n",
    "<a href=\"#top\">Top </a>\n",
    "\n",
    "<a href=\"#toc\">Table of Contents</a>\n",
    "\n",
    "- <a href=\"#array\">Array</a> |\n",
    "<a href=\"#binary\">Binary</a> |\n",
    "<a href=\"#dynamic\">Dynamic Programming</a> |\n",
    "<a href=\"#graph\">Graph</a> |\n",
    "<a href=\"#interval\">Interval</a> |\n",
    "<a href=\"#linkedlist\">Linked List</a> |\n",
    "<a href=\"#matrix\">Matrix</a> |\n",
    "<a href=\"#string\">String</a> |\n",
    "<a href=\"#tree\">Tree</a> |\n",
    "<a href=\"#heap\">Heap</a>\n",
    "\n",
    "<a href=\"#workedproblems\">Worked Problems</a>\n",
    "\n",
    "------"
   ]
  },
  {
   "cell_type": "markdown",
   "metadata": {},
   "source": [
    "#### Notes"
   ]
  },
  {
   "cell_type": "markdown",
   "metadata": {},
   "source": [
    "`Double-click` or press `Enter` and type some notes in this cell"
   ]
  },
  {
   "cell_type": "markdown",
   "metadata": {},
   "source": [
    "#### Code"
   ]
  },
  {
   "cell_type": "code",
   "execution_count": 24,
   "metadata": {},
   "outputs": [],
   "source": [
    "# Implement Solution here"
   ]
  },
  {
   "cell_type": "markdown",
   "metadata": {},
   "source": [
    "<a id='dynpath'></a>\n",
    "###  Unique Paths\n",
    "------\n",
    "<a href=\"#top\">Top </a>\n",
    "\n",
    "<a href=\"#toc\">Table of Contents</a>\n",
    "\n",
    "- <a href=\"#array\">Array</a> |\n",
    "<a href=\"#binary\">Binary</a> |\n",
    "<a href=\"#dynamic\">Dynamic Programming</a> |\n",
    "<a href=\"#graph\">Graph</a> |\n",
    "<a href=\"#interval\">Interval</a> |\n",
    "<a href=\"#linkedlist\">Linked List</a> |\n",
    "<a href=\"#matrix\">Matrix</a> |\n",
    "<a href=\"#string\">String</a> |\n",
    "<a href=\"#tree\">Tree</a> |\n",
    "<a href=\"#heap\">Heap</a>\n",
    "\n",
    "<a href=\"#workedproblems\">Worked Problems</a>\n",
    "\n",
    "------"
   ]
  },
  {
   "cell_type": "markdown",
   "metadata": {},
   "source": [
    "#### Notes"
   ]
  },
  {
   "cell_type": "markdown",
   "metadata": {},
   "source": [
    "`Double-click` or press `Enter` and type some notes in this cell"
   ]
  },
  {
   "cell_type": "markdown",
   "metadata": {},
   "source": [
    "#### Code"
   ]
  },
  {
   "cell_type": "code",
   "execution_count": 25,
   "metadata": {},
   "outputs": [],
   "source": [
    "# Implement Solution here"
   ]
  },
  {
   "cell_type": "markdown",
   "metadata": {},
   "source": [
    "<a id='dyngame'></a>\n",
    "### Jump Game\n",
    "------\n",
    "<a href=\"#top\">Top </a>\n",
    "\n",
    "<a href=\"#toc\">Table of Contents</a>\n",
    "\n",
    "- <a href=\"#array\">Array</a> |\n",
    "<a href=\"#binary\">Binary</a> |\n",
    "<a href=\"#dynamic\">Dynamic Programming</a> |\n",
    "<a href=\"#graph\">Graph</a> |\n",
    "<a href=\"#interval\">Interval</a> |\n",
    "<a href=\"#linkedlist\">Linked List</a> |\n",
    "<a href=\"#matrix\">Matrix</a> |\n",
    "<a href=\"#string\">String</a> |\n",
    "<a href=\"#tree\">Tree</a> |\n",
    "<a href=\"#heap\">Heap</a>\n",
    "\n",
    "<a href=\"#workedproblems\">Worked Problems</a>\n",
    "\n",
    "------"
   ]
  },
  {
   "cell_type": "markdown",
   "metadata": {},
   "source": [
    "#### Notes"
   ]
  },
  {
   "cell_type": "markdown",
   "metadata": {},
   "source": [
    "`Double-click` or press `Enter` and type some notes in this cell"
   ]
  },
  {
   "cell_type": "markdown",
   "metadata": {},
   "source": [
    "#### Code"
   ]
  },
  {
   "cell_type": "code",
   "execution_count": 26,
   "metadata": {},
   "outputs": [],
   "source": [
    "# Implement Solution here"
   ]
  },
  {
   "cell_type": "markdown",
   "metadata": {},
   "source": [
    "\n",
    "## Worked Graph Problems\n"
   ]
  },
  {
   "cell_type": "markdown",
   "metadata": {},
   "source": [
    "<a id=\"graphclone\"></a>\n",
    "### Clone Graph\n",
    "------\n",
    "<a href=\"#top\">Top </a>\n",
    "\n",
    "<a href=\"#toc\">Table of Contents</a>\n",
    "\n",
    "- <a href=\"#array\">Array</a> |\n",
    "<a href=\"#binary\">Binary</a> |\n",
    "<a href=\"#dynamic\">Dynamic Programming</a> |\n",
    "<a href=\"#graph\">Graph</a> |\n",
    "<a href=\"#interval\">Interval</a> |\n",
    "<a href=\"#linkedlist\">Linked List</a> |\n",
    "<a href=\"#matrix\">Matrix</a> |\n",
    "<a href=\"#string\">String</a> |\n",
    "<a href=\"#tree\">Tree</a> |\n",
    "<a href=\"#heap\">Heap</a>\n",
    "\n",
    "<a href=\"#workedproblems\">Worked Problems</a>\n",
    "\n",
    "------"
   ]
  },
  {
   "cell_type": "markdown",
   "metadata": {},
   "source": [
    "#### Notes"
   ]
  },
  {
   "cell_type": "markdown",
   "metadata": {},
   "source": [
    "`Double-click` or press `Enter` and type some notes in this cell"
   ]
  },
  {
   "cell_type": "markdown",
   "metadata": {},
   "source": [
    "#### Code"
   ]
  },
  {
   "cell_type": "code",
   "execution_count": 27,
   "metadata": {},
   "outputs": [],
   "source": [
    "# Implement Solution here"
   ]
  },
  {
   "cell_type": "markdown",
   "metadata": {},
   "source": [
    "<a id=\"graphsched\"></a>\n",
    "### Course Schedule\n",
    "------\n",
    "<a href=\"#top\">Top </a>\n",
    "\n",
    "<a href=\"#toc\">Table of Contents</a>\n",
    "\n",
    "- <a href=\"#array\">Array</a> |\n",
    "<a href=\"#binary\">Binary</a> |\n",
    "<a href=\"#dynamic\">Dynamic Programming</a> |\n",
    "<a href=\"#graph\">Graph</a> |\n",
    "<a href=\"#interval\">Interval</a> |\n",
    "<a href=\"#linkedlist\">Linked List</a> |\n",
    "<a href=\"#matrix\">Matrix</a> |\n",
    "<a href=\"#string\">String</a> |\n",
    "<a href=\"#tree\">Tree</a> |\n",
    "<a href=\"#heap\">Heap</a>\n",
    "\n",
    "<a href=\"#workedproblems\">Worked Problems</a>\n",
    "\n",
    "------"
   ]
  },
  {
   "cell_type": "markdown",
   "metadata": {},
   "source": [
    "#### Notes"
   ]
  },
  {
   "cell_type": "markdown",
   "metadata": {},
   "source": [
    "`Double-click` or press `Enter` and type some notes in this cell"
   ]
  },
  {
   "cell_type": "markdown",
   "metadata": {},
   "source": [
    "#### Code"
   ]
  },
  {
   "cell_type": "code",
   "execution_count": 28,
   "metadata": {},
   "outputs": [],
   "source": [
    "# Implement Solution here"
   ]
  },
  {
   "cell_type": "markdown",
   "metadata": {},
   "source": [
    "<a id='graphflow'></a>\n",
    "### Pacific Atlantic Water Flow\n",
    "------\n",
    "<a href=\"#top\">Top </a>\n",
    "\n",
    "<a href=\"#toc\">Table of Contents</a>\n",
    "\n",
    "- <a href=\"#array\">Array</a> |\n",
    "<a href=\"#binary\">Binary</a> |\n",
    "<a href=\"#dynamic\">Dynamic Programming</a> |\n",
    "<a href=\"#graph\">Graph</a> |\n",
    "<a href=\"#interval\">Interval</a> |\n",
    "<a href=\"#linkedlist\">Linked List</a> |\n",
    "<a href=\"#matrix\">Matrix</a> |\n",
    "<a href=\"#string\">String</a> |\n",
    "<a href=\"#tree\">Tree</a> |\n",
    "<a href=\"#heap\">Heap</a>\n",
    "\n",
    "<a href=\"#workedproblems\">Worked Problems</a>\n",
    "\n",
    "------"
   ]
  },
  {
   "cell_type": "markdown",
   "metadata": {},
   "source": [
    "#### Notes"
   ]
  },
  {
   "cell_type": "markdown",
   "metadata": {},
   "source": [
    "`Double-click` or press `Enter` and type some notes in this cell"
   ]
  },
  {
   "cell_type": "markdown",
   "metadata": {},
   "source": [
    "#### Code"
   ]
  },
  {
   "cell_type": "code",
   "execution_count": 29,
   "metadata": {},
   "outputs": [],
   "source": [
    "# Implement Solution here"
   ]
  },
  {
   "cell_type": "markdown",
   "metadata": {},
   "source": [
    "<a id='graphisl'></a>\n",
    "### Number of Islands\n",
    "------\n",
    "<a href=\"#top\">Top </a>\n",
    "\n",
    "<a href=\"#toc\">Table of Contents</a>\n",
    "\n",
    "- <a href=\"#array\">Array</a> |\n",
    "<a href=\"#binary\">Binary</a> |\n",
    "<a href=\"#dynamic\">Dynamic Programming</a> |\n",
    "<a href=\"#graph\">Graph</a> |\n",
    "<a href=\"#interval\">Interval</a> |\n",
    "<a href=\"#linkedlist\">Linked List</a> |\n",
    "<a href=\"#matrix\">Matrix</a> |\n",
    "<a href=\"#string\">String</a> |\n",
    "<a href=\"#tree\">Tree</a> |\n",
    "<a href=\"#heap\">Heap</a>\n",
    "\n",
    "<a href=\"#workedproblems\">Worked Problems</a>\n",
    "\n",
    "------"
   ]
  },
  {
   "cell_type": "markdown",
   "metadata": {},
   "source": [
    "#### Notes"
   ]
  },
  {
   "cell_type": "markdown",
   "metadata": {},
   "source": [
    "`Double-click` or press `Enter` and type some notes in this cell"
   ]
  },
  {
   "cell_type": "markdown",
   "metadata": {},
   "source": [
    "#### Code"
   ]
  },
  {
   "cell_type": "code",
   "execution_count": 30,
   "metadata": {},
   "outputs": [],
   "source": [
    "# Implement Solution here"
   ]
  },
  {
   "cell_type": "markdown",
   "metadata": {},
   "source": [
    "<a id='graphseq'></a>\n",
    "### Longest Consecutive Sequence\n",
    "------\n",
    "<a href=\"#top\">Top </a>\n",
    "\n",
    "<a href=\"#toc\">Table of Contents</a>\n",
    "\n",
    "- <a href=\"#array\">Array</a> |\n",
    "<a href=\"#binary\">Binary</a> |\n",
    "<a href=\"#dynamic\">Dynamic Programming</a> |\n",
    "<a href=\"#graph\">Graph</a> |\n",
    "<a href=\"#interval\">Interval</a> |\n",
    "<a href=\"#linkedlist\">Linked List</a> |\n",
    "<a href=\"#matrix\">Matrix</a> |\n",
    "<a href=\"#string\">String</a> |\n",
    "<a href=\"#tree\">Tree</a> |\n",
    "<a href=\"#heap\">Heap</a>\n",
    "\n",
    "<a href=\"#workedproblems\">Worked Problems</a>\n",
    "\n",
    "------"
   ]
  },
  {
   "cell_type": "markdown",
   "metadata": {},
   "source": [
    "#### Notes"
   ]
  },
  {
   "cell_type": "markdown",
   "metadata": {},
   "source": [
    "`Double-click` or press `Enter` and type some notes in this cell"
   ]
  },
  {
   "cell_type": "markdown",
   "metadata": {},
   "source": [
    "#### Code"
   ]
  },
  {
   "cell_type": "code",
   "execution_count": 31,
   "metadata": {},
   "outputs": [],
   "source": [
    "# Implement Solution here"
   ]
  },
  {
   "cell_type": "markdown",
   "metadata": {},
   "source": [
    "<a id='graphalien'></a>\n",
    "### Alien Dictionary (Leetcode Premium)\n",
    "------\n",
    "<a href=\"#top\">Top </a>\n",
    "\n",
    "<a href=\"#toc\">Table of Contents</a>\n",
    "\n",
    "- <a href=\"#array\">Array</a> |\n",
    "<a href=\"#binary\">Binary</a> |\n",
    "<a href=\"#dynamic\">Dynamic Programming</a> |\n",
    "<a href=\"#graph\">Graph</a> |\n",
    "<a href=\"#interval\">Interval</a> |\n",
    "<a href=\"#linkedlist\">Linked List</a> |\n",
    "<a href=\"#matrix\">Matrix</a> |\n",
    "<a href=\"#string\">String</a> |\n",
    "<a href=\"#tree\">Tree</a> |\n",
    "<a href=\"#heap\">Heap</a>\n",
    "\n",
    "<a href=\"#workedproblems\">Worked Problems</a>\n",
    "\n",
    "------"
   ]
  },
  {
   "cell_type": "markdown",
   "metadata": {},
   "source": [
    "#### Notes"
   ]
  },
  {
   "cell_type": "markdown",
   "metadata": {},
   "source": [
    "`Double-click` or press `Enter` and type some notes in this cell"
   ]
  },
  {
   "cell_type": "markdown",
   "metadata": {},
   "source": [
    "#### Code"
   ]
  },
  {
   "cell_type": "code",
   "execution_count": 32,
   "metadata": {},
   "outputs": [],
   "source": [
    "# Implement Solution here"
   ]
  },
  {
   "cell_type": "markdown",
   "metadata": {},
   "source": [
    "<a id='graphtree'></a>\n",
    "### Graph Valid Tree (Leetcode Premium)\n",
    "------\n",
    "<a href=\"#top\">Top </a>\n",
    "\n",
    "<a href=\"#toc\">Table of Contents</a>\n",
    "\n",
    "- <a href=\"#array\">Array</a> |\n",
    "<a href=\"#binary\">Binary</a> |\n",
    "<a href=\"#dynamic\">Dynamic Programming</a> |\n",
    "<a href=\"#graph\">Graph</a> |\n",
    "<a href=\"#interval\">Interval</a> |\n",
    "<a href=\"#linkedlist\">Linked List</a> |\n",
    "<a href=\"#matrix\">Matrix</a> |\n",
    "<a href=\"#string\">String</a> |\n",
    "<a href=\"#tree\">Tree</a> |\n",
    "<a href=\"#heap\">Heap</a>\n",
    "\n",
    "<a href=\"#workedproblems\">Worked Problems</a>\n",
    "\n",
    "------"
   ]
  },
  {
   "cell_type": "markdown",
   "metadata": {},
   "source": [
    "#### Notes"
   ]
  },
  {
   "cell_type": "markdown",
   "metadata": {},
   "source": [
    "`Double-click` or press `Enter` and type some notes in this cell"
   ]
  },
  {
   "cell_type": "markdown",
   "metadata": {},
   "source": [
    "#### Code"
   ]
  },
  {
   "cell_type": "code",
   "execution_count": 33,
   "metadata": {},
   "outputs": [],
   "source": [
    "# Implement Solution here"
   ]
  },
  {
   "cell_type": "markdown",
   "metadata": {},
   "source": [
    "<a id='graphconnect'></a>\n",
    "### Number of Connected Components in an Undirected Graph (Leetcode Premium)\n",
    "------\n",
    "<a href=\"#top\">Top </a>\n",
    "\n",
    "<a href=\"#toc\">Table of Contents</a>\n",
    "\n",
    "- <a href=\"#array\">Array</a> |\n",
    "<a href=\"#binary\">Binary</a> |\n",
    "<a href=\"#dynamic\">Dynamic Programming</a> |\n",
    "<a href=\"#graph\">Graph</a> |\n",
    "<a href=\"#interval\">Interval</a> |\n",
    "<a href=\"#linkedlist\">Linked List</a> |\n",
    "<a href=\"#matrix\">Matrix</a> |\n",
    "<a href=\"#string\">String</a> |\n",
    "<a href=\"#tree\">Tree</a> |\n",
    "<a href=\"#heap\">Heap</a>\n",
    "\n",
    "<a href=\"#workedproblems\">Worked Problems</a>\n",
    "\n",
    "------"
   ]
  },
  {
   "cell_type": "markdown",
   "metadata": {},
   "source": [
    "#### Notes"
   ]
  },
  {
   "cell_type": "markdown",
   "metadata": {},
   "source": [
    "`Double-click` or press `Enter` and type some notes in this cell"
   ]
  },
  {
   "cell_type": "markdown",
   "metadata": {},
   "source": [
    "#### Code"
   ]
  },
  {
   "cell_type": "code",
   "execution_count": 34,
   "metadata": {},
   "outputs": [],
   "source": [
    "# Implement Solution here"
   ]
  },
  {
   "cell_type": "markdown",
   "metadata": {},
   "source": [
    "\n",
    "## Worked Interval Problems\n"
   ]
  },
  {
   "cell_type": "markdown",
   "metadata": {},
   "source": [
    "<a id='intinsert'></a>\n",
    "### Insert Interval\n",
    "------\n",
    "<a href=\"#top\">Top </a>\n",
    "\n",
    "<a href=\"#toc\">Table of Contents</a>\n",
    "\n",
    "- <a href=\"#array\">Array</a> |\n",
    "<a href=\"#binary\">Binary</a> |\n",
    "<a href=\"#dynamic\">Dynamic Programming</a> |\n",
    "<a href=\"#graph\">Graph</a> |\n",
    "<a href=\"#interval\">Interval</a> |\n",
    "<a href=\"#linkedlist\">Linked List</a> |\n",
    "<a href=\"#matrix\">Matrix</a> |\n",
    "<a href=\"#string\">String</a> |\n",
    "<a href=\"#tree\">Tree</a> |\n",
    "<a href=\"#heap\">Heap</a>\n",
    "\n",
    "<a href=\"#workedproblems\">Worked Problems</a>\n",
    "\n",
    "------"
   ]
  },
  {
   "cell_type": "markdown",
   "metadata": {},
   "source": [
    "#### Notes"
   ]
  },
  {
   "cell_type": "markdown",
   "metadata": {},
   "source": [
    "`Double-click` or press `Enter` and type some notes in this cell"
   ]
  },
  {
   "cell_type": "markdown",
   "metadata": {},
   "source": [
    "#### Code"
   ]
  },
  {
   "cell_type": "code",
   "execution_count": 35,
   "metadata": {},
   "outputs": [],
   "source": [
    "# Implement Solution here"
   ]
  },
  {
   "cell_type": "markdown",
   "metadata": {},
   "source": [
    "<a id='intmerge'></a>\n",
    "### Merge Intervals\n",
    "------\n",
    "<a href=\"#top\">Top </a>\n",
    "\n",
    "<a href=\"#toc\">Table of Contents</a>\n",
    "\n",
    "- <a href=\"#array\">Array</a> |\n",
    "<a href=\"#binary\">Binary</a> |\n",
    "<a href=\"#dynamic\">Dynamic Programming</a> |\n",
    "<a href=\"#graph\">Graph</a> |\n",
    "<a href=\"#interval\">Interval</a> |\n",
    "<a href=\"#linkedlist\">Linked List</a> |\n",
    "<a href=\"#matrix\">Matrix</a> |\n",
    "<a href=\"#string\">String</a> |\n",
    "<a href=\"#tree\">Tree</a> |\n",
    "<a href=\"#heap\">Heap</a>\n",
    "\n",
    "<a href=\"#workedproblems\">Worked Problems</a>\n",
    "\n",
    "------"
   ]
  },
  {
   "cell_type": "markdown",
   "metadata": {},
   "source": [
    "#### Notes"
   ]
  },
  {
   "cell_type": "markdown",
   "metadata": {},
   "source": [
    "`Double-click` or press `Enter` and type some notes in this cell"
   ]
  },
  {
   "cell_type": "markdown",
   "metadata": {},
   "source": [
    "#### Code"
   ]
  },
  {
   "cell_type": "code",
   "execution_count": 36,
   "metadata": {},
   "outputs": [],
   "source": [
    "# Implement Solution here"
   ]
  },
  {
   "cell_type": "markdown",
   "metadata": {},
   "source": [
    "<a id='intnover'></a>\n",
    "### Non-overlapping Intervals\n",
    "------\n",
    "<a href=\"#top\">Top </a>\n",
    "\n",
    "<a href=\"#toc\">Table of Contents</a>\n",
    "\n",
    "- <a href=\"#array\">Array</a> |\n",
    "<a href=\"#binary\">Binary</a> |\n",
    "<a href=\"#dynamic\">Dynamic Programming</a> |\n",
    "<a href=\"#graph\">Graph</a> |\n",
    "<a href=\"#interval\">Interval</a> |\n",
    "<a href=\"#linkedlist\">Linked List</a> |\n",
    "<a href=\"#matrix\">Matrix</a> |\n",
    "<a href=\"#string\">String</a> |\n",
    "<a href=\"#tree\">Tree</a> |\n",
    "<a href=\"#heap\">Heap</a>\n",
    "\n",
    "<a href=\"#workedproblems\">Worked Problems</a>\n",
    "\n",
    "------"
   ]
  },
  {
   "cell_type": "markdown",
   "metadata": {},
   "source": [
    "#### Notes"
   ]
  },
  {
   "cell_type": "markdown",
   "metadata": {},
   "source": [
    "`Double-click` or press `Enter` and type some notes in this cell"
   ]
  },
  {
   "cell_type": "markdown",
   "metadata": {},
   "source": [
    "#### Code"
   ]
  },
  {
   "cell_type": "code",
   "execution_count": 37,
   "metadata": {},
   "outputs": [],
   "source": [
    "# Implement Solution here"
   ]
  },
  {
   "cell_type": "markdown",
   "metadata": {},
   "source": [
    "<a id='intmeet'></a>\n",
    "### Meeting Rooms (Leetcode Premium)\n",
    "------\n",
    "<a href=\"#top\">Top </a>\n",
    "\n",
    "<a href=\"#toc\">Table of Contents</a>\n",
    "\n",
    "- <a href=\"#array\">Array</a> |\n",
    "<a href=\"#binary\">Binary</a> |\n",
    "<a href=\"#dynamic\">Dynamic Programming</a> |\n",
    "<a href=\"#graph\">Graph</a> |\n",
    "<a href=\"#interval\">Interval</a> |\n",
    "<a href=\"#linkedlist\">Linked List</a> |\n",
    "<a href=\"#matrix\">Matrix</a> |\n",
    "<a href=\"#string\">String</a> |\n",
    "<a href=\"#tree\">Tree</a> |\n",
    "<a href=\"#heap\">Heap</a>\n",
    "\n",
    "<a href=\"#workedproblems\">Worked Problems</a>\n",
    "\n",
    "------"
   ]
  },
  {
   "cell_type": "markdown",
   "metadata": {},
   "source": [
    "#### Notes"
   ]
  },
  {
   "cell_type": "markdown",
   "metadata": {},
   "source": [
    "`Double-click` or press `Enter` and type some notes in this cell"
   ]
  },
  {
   "cell_type": "markdown",
   "metadata": {},
   "source": [
    "#### Code"
   ]
  },
  {
   "cell_type": "code",
   "execution_count": 38,
   "metadata": {},
   "outputs": [],
   "source": [
    "# Implement Solution here"
   ]
  },
  {
   "cell_type": "markdown",
   "metadata": {},
   "source": [
    "<a id='intmeet2'></a>\n",
    "### Meeting Rooms II (Leetcode Premium)\n",
    "------\n",
    "<a href=\"#top\">Top </a>\n",
    "\n",
    "<a href=\"#toc\">Table of Contents</a>\n",
    "\n",
    "- <a href=\"#array\">Array</a> |\n",
    "<a href=\"#binary\">Binary</a> |\n",
    "<a href=\"#dynamic\">Dynamic Programming</a> |\n",
    "<a href=\"#graph\">Graph</a> |\n",
    "<a href=\"#interval\">Interval</a> |\n",
    "<a href=\"#linkedlist\">Linked List</a> |\n",
    "<a href=\"#matrix\">Matrix</a> |\n",
    "<a href=\"#string\">String</a> |\n",
    "<a href=\"#tree\">Tree</a> |\n",
    "<a href=\"#heap\">Heap</a>\n",
    "\n",
    "<a href=\"#workedproblems\">Worked Problems</a>\n",
    "\n",
    "------"
   ]
  },
  {
   "cell_type": "markdown",
   "metadata": {},
   "source": [
    "#### Notes"
   ]
  },
  {
   "cell_type": "markdown",
   "metadata": {},
   "source": [
    "`Double-click` or press `Enter` and type some notes in this cell"
   ]
  },
  {
   "cell_type": "markdown",
   "metadata": {},
   "source": [
    "#### Code"
   ]
  },
  {
   "cell_type": "code",
   "execution_count": 39,
   "metadata": {},
   "outputs": [],
   "source": [
    "# Implement Solution here"
   ]
  },
  {
   "cell_type": "markdown",
   "metadata": {},
   "source": [
    "\n",
    "## Worked Linked List Problems\n"
   ]
  },
  {
   "cell_type": "markdown",
   "metadata": {},
   "source": [
    "<a id='llistrev'></a>\n",
    "### Reverse a Linked List\n",
    "------\n",
    "<a href=\"#top\">Top </a>\n",
    "\n",
    "<a href=\"#toc\">Table of Contents</a>\n",
    "\n",
    "- <a href=\"#array\">Array</a> |\n",
    "<a href=\"#binary\">Binary</a> |\n",
    "<a href=\"#dynamic\">Dynamic Programming</a> |\n",
    "<a href=\"#graph\">Graph</a> |\n",
    "<a href=\"#interval\">Interval</a> |\n",
    "<a href=\"#linkedlist\">Linked List</a> |\n",
    "<a href=\"#matrix\">Matrix</a> |\n",
    "<a href=\"#string\">String</a> |\n",
    "<a href=\"#tree\">Tree</a> |\n",
    "<a href=\"#heap\">Heap</a>\n",
    "\n",
    "<a href=\"#workedproblems\">Worked Problems</a>\n",
    "\n",
    "------"
   ]
  },
  {
   "cell_type": "markdown",
   "metadata": {},
   "source": [
    "#### Notes"
   ]
  },
  {
   "cell_type": "markdown",
   "metadata": {},
   "source": [
    "`Double-click` or press `Enter` and type some notes in this cell"
   ]
  },
  {
   "cell_type": "markdown",
   "metadata": {},
   "source": [
    "#### Code"
   ]
  },
  {
   "cell_type": "code",
   "execution_count": 40,
   "metadata": {},
   "outputs": [],
   "source": [
    "# Implement Solution here"
   ]
  },
  {
   "cell_type": "markdown",
   "metadata": {},
   "source": [
    "<a id='llistcycl'></a>\n",
    "### Detect Cycle in a Linked List\n",
    "------\n",
    "<a href=\"#top\">Top </a>\n",
    "\n",
    "<a href=\"#toc\">Table of Contents</a>\n",
    "\n",
    "- <a href=\"#array\">Array</a> |\n",
    "<a href=\"#binary\">Binary</a> |\n",
    "<a href=\"#dynamic\">Dynamic Programming</a> |\n",
    "<a href=\"#graph\">Graph</a> |\n",
    "<a href=\"#interval\">Interval</a> |\n",
    "<a href=\"#linkedlist\">Linked List</a> |\n",
    "<a href=\"#matrix\">Matrix</a> |\n",
    "<a href=\"#string\">String</a> |\n",
    "<a href=\"#tree\">Tree</a> |\n",
    "<a href=\"#heap\">Heap</a>\n",
    "\n",
    "<a href=\"#workedproblems\">Worked Problems</a>\n",
    "\n",
    "------"
   ]
  },
  {
   "cell_type": "markdown",
   "metadata": {},
   "source": [
    "#### Notes"
   ]
  },
  {
   "cell_type": "markdown",
   "metadata": {},
   "source": [
    "`Double-click` or press `Enter` and type some notes in this cell"
   ]
  },
  {
   "cell_type": "markdown",
   "metadata": {},
   "source": [
    "#### Code"
   ]
  },
  {
   "cell_type": "code",
   "execution_count": 41,
   "metadata": {},
   "outputs": [],
   "source": [
    "# Implement Solution here"
   ]
  },
  {
   "cell_type": "markdown",
   "metadata": {},
   "source": [
    "<a id='llistmerge2'></a>\n",
    "### Merge Two Sorted Lists\n",
    "------\n",
    "<a href=\"#top\">Top </a>\n",
    "\n",
    "<a href=\"#toc\">Table of Contents</a>\n",
    "\n",
    "- <a href=\"#array\">Array</a> |\n",
    "<a href=\"#binary\">Binary</a> |\n",
    "<a href=\"#dynamic\">Dynamic Programming</a> |\n",
    "<a href=\"#graph\">Graph</a> |\n",
    "<a href=\"#interval\">Interval</a> |\n",
    "<a href=\"#linkedlist\">Linked List</a> |\n",
    "<a href=\"#matrix\">Matrix</a> |\n",
    "<a href=\"#string\">String</a> |\n",
    "<a href=\"#tree\">Tree</a> |\n",
    "<a href=\"#heap\">Heap</a>\n",
    "\n",
    "<a href=\"#workedproblems\">Worked Problems</a>\n",
    "\n",
    "------"
   ]
  },
  {
   "cell_type": "markdown",
   "metadata": {},
   "source": [
    "#### Notes"
   ]
  },
  {
   "cell_type": "markdown",
   "metadata": {},
   "source": [
    "`Double-click` or press `Enter` and type some notes in this cell"
   ]
  },
  {
   "cell_type": "markdown",
   "metadata": {},
   "source": [
    "#### Code"
   ]
  },
  {
   "cell_type": "code",
   "execution_count": 42,
   "metadata": {},
   "outputs": [],
   "source": [
    "# Implement Solution here"
   ]
  },
  {
   "cell_type": "markdown",
   "metadata": {},
   "source": [
    "<a id='llistmergek'></a>\n",
    "### Merge K Sorted Lists\n",
    "------\n",
    "<a href=\"#top\">Top </a>\n",
    "\n",
    "<a href=\"#toc\">Table of Contents</a>\n",
    "\n",
    "- <a href=\"#array\">Array</a> |\n",
    "<a href=\"#binary\">Binary</a> |\n",
    "<a href=\"#dynamic\">Dynamic Programming</a> |\n",
    "<a href=\"#graph\">Graph</a> |\n",
    "<a href=\"#interval\">Interval</a> |\n",
    "<a href=\"#linkedlist\">Linked List</a> |\n",
    "<a href=\"#matrix\">Matrix</a> |\n",
    "<a href=\"#string\">String</a> |\n",
    "<a href=\"#tree\">Tree</a> |\n",
    "<a href=\"#heap\">Heap</a>\n",
    "\n",
    "<a href=\"#workedproblems\">Worked Problems</a>\n",
    "\n",
    "------"
   ]
  },
  {
   "cell_type": "markdown",
   "metadata": {},
   "source": [
    "#### Notes"
   ]
  },
  {
   "cell_type": "markdown",
   "metadata": {},
   "source": [
    "`Double-click` or press `Enter` and type some notes in this cell"
   ]
  },
  {
   "cell_type": "markdown",
   "metadata": {},
   "source": [
    "#### Code"
   ]
  },
  {
   "cell_type": "code",
   "execution_count": 43,
   "metadata": {},
   "outputs": [],
   "source": [
    "# Implement Solution here"
   ]
  },
  {
   "cell_type": "markdown",
   "metadata": {},
   "source": [
    "<a id='llistremn'></a>\n",
    "### Remove Nth Node From End Of List\n",
    "------\n",
    "<a href=\"#top\">Top </a>\n",
    "\n",
    "<a href=\"#toc\">Table of Contents</a>\n",
    "\n",
    "- <a href=\"#array\">Array</a> |\n",
    "<a href=\"#binary\">Binary</a> |\n",
    "<a href=\"#dynamic\">Dynamic Programming</a> |\n",
    "<a href=\"#graph\">Graph</a> |\n",
    "<a href=\"#interval\">Interval</a> |\n",
    "<a href=\"#linkedlist\">Linked List</a> |\n",
    "<a href=\"#matrix\">Matrix</a> |\n",
    "<a href=\"#string\">String</a> |\n",
    "<a href=\"#tree\">Tree</a> |\n",
    "<a href=\"#heap\">Heap</a>\n",
    "\n",
    "<a href=\"#workedproblems\">Worked Problems</a>\n",
    "\n",
    "------"
   ]
  },
  {
   "cell_type": "markdown",
   "metadata": {},
   "source": [
    "#### Notes"
   ]
  },
  {
   "cell_type": "markdown",
   "metadata": {},
   "source": [
    "`Double-click` or press `Enter` and type some notes in this cell"
   ]
  },
  {
   "cell_type": "markdown",
   "metadata": {},
   "source": [
    "#### Code"
   ]
  },
  {
   "cell_type": "code",
   "execution_count": 44,
   "metadata": {},
   "outputs": [],
   "source": [
    "# Implement Solution here"
   ]
  },
  {
   "cell_type": "markdown",
   "metadata": {},
   "source": [
    "<a id='llistreord'></a>\n",
    "### Reorder List\n",
    "------\n",
    "<a href=\"#top\">Top </a>\n",
    "\n",
    "<a href=\"#toc\">Table of Contents</a>\n",
    "\n",
    "- <a href=\"#array\">Array</a> |\n",
    "<a href=\"#binary\">Binary</a> |\n",
    "<a href=\"#dynamic\">Dynamic Programming</a> |\n",
    "<a href=\"#graph\">Graph</a> |\n",
    "<a href=\"#interval\">Interval</a> |\n",
    "<a href=\"#linkedlist\">Linked List</a> |\n",
    "<a href=\"#matrix\">Matrix</a> |\n",
    "<a href=\"#string\">String</a> |\n",
    "<a href=\"#tree\">Tree</a> |\n",
    "<a href=\"#heap\">Heap</a>\n",
    "\n",
    "<a href=\"#workedproblems\">Worked Problems</a>\n",
    "\n",
    "------"
   ]
  },
  {
   "cell_type": "markdown",
   "metadata": {},
   "source": [
    "#### Notes"
   ]
  },
  {
   "cell_type": "markdown",
   "metadata": {},
   "source": [
    "`Double-click` or press `Enter` and type some notes in this cell"
   ]
  },
  {
   "cell_type": "markdown",
   "metadata": {},
   "source": [
    "#### Code"
   ]
  },
  {
   "cell_type": "code",
   "execution_count": 45,
   "metadata": {},
   "outputs": [],
   "source": [
    "# Implement Solution here"
   ]
  },
  {
   "cell_type": "markdown",
   "metadata": {},
   "source": [
    "\n",
    "## Worked Matrix Problems\n"
   ]
  },
  {
   "cell_type": "markdown",
   "metadata": {},
   "source": [
    "<a id='matset0'></a>\n",
    "### Set Matrix Zeroes\n",
    "------\n",
    "<a href=\"#top\">Top </a>\n",
    "\n",
    "<a href=\"#toc\">Table of Contents</a>\n",
    "\n",
    "- <a href=\"#array\">Array</a> |\n",
    "<a href=\"#binary\">Binary</a> |\n",
    "<a href=\"#dynamic\">Dynamic Programming</a> |\n",
    "<a href=\"#graph\">Graph</a> |\n",
    "<a href=\"#interval\">Interval</a> |\n",
    "<a href=\"#linkedlist\">Linked List</a> |\n",
    "<a href=\"#matrix\">Matrix</a> |\n",
    "<a href=\"#string\">String</a> |\n",
    "<a href=\"#tree\">Tree</a> |\n",
    "<a href=\"#heap\">Heap</a>\n",
    "\n",
    "<a href=\"#workedproblems\">Worked Problems</a>\n",
    "\n",
    "------"
   ]
  },
  {
   "cell_type": "markdown",
   "metadata": {},
   "source": [
    "#### Notes"
   ]
  },
  {
   "cell_type": "markdown",
   "metadata": {},
   "source": [
    "`Double-click` or press `Enter` and type some notes in this cell"
   ]
  },
  {
   "cell_type": "markdown",
   "metadata": {},
   "source": [
    "#### Code"
   ]
  },
  {
   "cell_type": "code",
   "execution_count": 46,
   "metadata": {},
   "outputs": [],
   "source": [
    "# Implement Solution here"
   ]
  },
  {
   "cell_type": "markdown",
   "metadata": {},
   "source": [
    "<a id='matspiral'></a>\n",
    "### Spiral Matrix\n",
    "------\n",
    "<a href=\"#top\">Top </a>\n",
    "\n",
    "<a href=\"#toc\">Table of Contents</a>\n",
    "\n",
    "- <a href=\"#array\">Array</a> |\n",
    "<a href=\"#binary\">Binary</a> |\n",
    "<a href=\"#dynamic\">Dynamic Programming</a> |\n",
    "<a href=\"#graph\">Graph</a> |\n",
    "<a href=\"#interval\">Interval</a> |\n",
    "<a href=\"#linkedlist\">Linked List</a> |\n",
    "<a href=\"#matrix\">Matrix</a> |\n",
    "<a href=\"#string\">String</a> |\n",
    "<a href=\"#tree\">Tree</a> |\n",
    "<a href=\"#heap\">Heap</a>\n",
    "\n",
    "<a href=\"#workedproblems\">Worked Problems</a>\n",
    "\n",
    "------"
   ]
  },
  {
   "cell_type": "markdown",
   "metadata": {},
   "source": [
    "#### Notes"
   ]
  },
  {
   "cell_type": "markdown",
   "metadata": {},
   "source": [
    "`Double-click` or press `Enter` and type some notes in this cell"
   ]
  },
  {
   "cell_type": "markdown",
   "metadata": {},
   "source": [
    "#### Code"
   ]
  },
  {
   "cell_type": "code",
   "execution_count": 47,
   "metadata": {},
   "outputs": [],
   "source": [
    "# Implement Solution here"
   ]
  },
  {
   "cell_type": "markdown",
   "metadata": {},
   "source": [
    "<a id='matrotimg'></a>\n",
    "### Rotate Image\n",
    "------\n",
    "<a href=\"#top\">Top </a>\n",
    "\n",
    "<a href=\"#toc\">Table of Contents</a>\n",
    "\n",
    "- <a href=\"#array\">Array</a> |\n",
    "<a href=\"#binary\">Binary</a> |\n",
    "<a href=\"#dynamic\">Dynamic Programming</a> |\n",
    "<a href=\"#graph\">Graph</a> |\n",
    "<a href=\"#interval\">Interval</a> |\n",
    "<a href=\"#linkedlist\">Linked List</a> |\n",
    "<a href=\"#matrix\">Matrix</a> |\n",
    "<a href=\"#string\">String</a> |\n",
    "<a href=\"#tree\">Tree</a> |\n",
    "<a href=\"#heap\">Heap</a>\n",
    "\n",
    "<a href=\"#workedproblems\">Worked Problems</a>\n",
    "\n",
    "------"
   ]
  },
  {
   "cell_type": "markdown",
   "metadata": {},
   "source": [
    "#### Notes"
   ]
  },
  {
   "cell_type": "markdown",
   "metadata": {},
   "source": [
    "`Double-click` or press `Enter` and type some notes in this cell"
   ]
  },
  {
   "cell_type": "markdown",
   "metadata": {},
   "source": [
    "#### Code"
   ]
  },
  {
   "cell_type": "code",
   "execution_count": 48,
   "metadata": {},
   "outputs": [],
   "source": [
    "# Implement Solution here"
   ]
  },
  {
   "cell_type": "markdown",
   "metadata": {},
   "source": [
    "<a id='matword'></a>\n",
    "### Word Search\n",
    "------\n",
    "<a href=\"#top\">Top </a>\n",
    "\n",
    "<a href=\"#toc\">Table of Contents</a>\n",
    "\n",
    "- <a href=\"#array\">Array</a> |\n",
    "<a href=\"#binary\">Binary</a> |\n",
    "<a href=\"#dynamic\">Dynamic Programming</a> |\n",
    "<a href=\"#graph\">Graph</a> |\n",
    "<a href=\"#interval\">Interval</a> |\n",
    "<a href=\"#linkedlist\">Linked List</a> |\n",
    "<a href=\"#matrix\">Matrix</a> |\n",
    "<a href=\"#string\">String</a> |\n",
    "<a href=\"#tree\">Tree</a> |\n",
    "<a href=\"#heap\">Heap</a>\n",
    "\n",
    "<a href=\"#workedproblems\">Worked Problems</a>\n",
    "\n",
    "------"
   ]
  },
  {
   "cell_type": "markdown",
   "metadata": {},
   "source": [
    "#### Notes"
   ]
  },
  {
   "cell_type": "markdown",
   "metadata": {},
   "source": [
    "`Double-click` or press `Enter` and type some notes in this cell"
   ]
  },
  {
   "cell_type": "markdown",
   "metadata": {},
   "source": [
    "#### Code"
   ]
  },
  {
   "cell_type": "code",
   "execution_count": 49,
   "metadata": {},
   "outputs": [],
   "source": [
    "# Implement Solution here"
   ]
  },
  {
   "cell_type": "markdown",
   "metadata": {},
   "source": [
    "\n",
    "## Worked String Problems\n"
   ]
  },
  {
   "cell_type": "markdown",
   "metadata": {},
   "source": [
    "<a id='strlongsub'></a>\n",
    "### Longest Substring Without Repeating Characters\n",
    "------\n",
    "<a href=\"#top\">Top </a>\n",
    "\n",
    "<a href=\"#toc\">Table of Contents</a>\n",
    "\n",
    "- <a href=\"#array\">Array</a> |\n",
    "<a href=\"#binary\">Binary</a> |\n",
    "<a href=\"#dynamic\">Dynamic Programming</a> |\n",
    "<a href=\"#graph\">Graph</a> |\n",
    "<a href=\"#interval\">Interval</a> |\n",
    "<a href=\"#linkedlist\">Linked List</a> |\n",
    "<a href=\"#matrix\">Matrix</a> |\n",
    "<a href=\"#string\">String</a> |\n",
    "<a href=\"#tree\">Tree</a> |\n",
    "<a href=\"#heap\">Heap</a>\n",
    "\n",
    "<a href=\"#workedproblems\">Worked Problems</a>\n",
    "\n",
    "------"
   ]
  },
  {
   "cell_type": "markdown",
   "metadata": {},
   "source": [
    "#### Notes"
   ]
  },
  {
   "cell_type": "markdown",
   "metadata": {},
   "source": [
    "`Double-click` or press `Enter` and type some notes in this cell"
   ]
  },
  {
   "cell_type": "markdown",
   "metadata": {},
   "source": [
    "#### Code"
   ]
  },
  {
   "cell_type": "code",
   "execution_count": 50,
   "metadata": {},
   "outputs": [],
   "source": [
    "# Implement Solution here"
   ]
  },
  {
   "cell_type": "markdown",
   "metadata": {},
   "source": [
    "<a id='strlongrep'></a>\n",
    "### Longest Repeating Character Replacement\n",
    "------\n",
    "<a href=\"#top\">Top </a>\n",
    "\n",
    "<a href=\"#toc\">Table of Contents</a>\n",
    "\n",
    "- <a href=\"#array\">Array</a> |\n",
    "<a href=\"#binary\">Binary</a> |\n",
    "<a href=\"#dynamic\">Dynamic Programming</a> |\n",
    "<a href=\"#graph\">Graph</a> |\n",
    "<a href=\"#interval\">Interval</a> |\n",
    "<a href=\"#linkedlist\">Linked List</a> |\n",
    "<a href=\"#matrix\">Matrix</a> |\n",
    "<a href=\"#string\">String</a> |\n",
    "<a href=\"#tree\">Tree</a> |\n",
    "<a href=\"#heap\">Heap</a>\n",
    "\n",
    "<a href=\"#workedproblems\">Worked Problems</a>\n",
    "\n",
    "------"
   ]
  },
  {
   "cell_type": "markdown",
   "metadata": {},
   "source": [
    "#### Notes"
   ]
  },
  {
   "cell_type": "markdown",
   "metadata": {},
   "source": [
    "`Double-click` or press `Enter` and type some notes in this cell"
   ]
  },
  {
   "cell_type": "markdown",
   "metadata": {},
   "source": [
    "#### Code"
   ]
  },
  {
   "cell_type": "code",
   "execution_count": 51,
   "metadata": {},
   "outputs": [],
   "source": [
    "# Implement Solution here"
   ]
  },
  {
   "cell_type": "markdown",
   "metadata": {},
   "source": [
    "<a id='strminwin'></a>\n",
    "### Minimum Window Substring\n",
    "------\n",
    "<a href=\"#top\">Top </a>\n",
    "\n",
    "<a href=\"#toc\">Table of Contents</a>\n",
    "\n",
    "- <a href=\"#array\">Array</a> |\n",
    "<a href=\"#binary\">Binary</a> |\n",
    "<a href=\"#dynamic\">Dynamic Programming</a> |\n",
    "<a href=\"#graph\">Graph</a> |\n",
    "<a href=\"#interval\">Interval</a> |\n",
    "<a href=\"#linkedlist\">Linked List</a> |\n",
    "<a href=\"#matrix\">Matrix</a> |\n",
    "<a href=\"#string\">String</a> |\n",
    "<a href=\"#tree\">Tree</a> |\n",
    "<a href=\"#heap\">Heap</a>\n",
    "\n",
    "<a href=\"#workedproblems\">Worked Problems</a>\n",
    "\n",
    "------"
   ]
  },
  {
   "cell_type": "markdown",
   "metadata": {},
   "source": [
    "#### Notes"
   ]
  },
  {
   "cell_type": "markdown",
   "metadata": {},
   "source": [
    "`Double-click` or press `Enter` and type some notes in this cell"
   ]
  },
  {
   "cell_type": "markdown",
   "metadata": {},
   "source": [
    "#### Code"
   ]
  },
  {
   "cell_type": "code",
   "execution_count": 52,
   "metadata": {},
   "outputs": [],
   "source": [
    "# Implement Solution here"
   ]
  },
  {
   "cell_type": "markdown",
   "metadata": {},
   "source": [
    "<a id='strvana'></a>\n",
    "### Valid Anagram\n",
    "------\n",
    "<a href=\"#top\">Top </a>\n",
    "\n",
    "<a href=\"#toc\">Table of Contents</a>\n",
    "\n",
    "- <a href=\"#array\">Array</a> |\n",
    "<a href=\"#binary\">Binary</a> |\n",
    "<a href=\"#dynamic\">Dynamic Programming</a> |\n",
    "<a href=\"#graph\">Graph</a> |\n",
    "<a href=\"#interval\">Interval</a> |\n",
    "<a href=\"#linkedlist\">Linked List</a> |\n",
    "<a href=\"#matrix\">Matrix</a> |\n",
    "<a href=\"#string\">String</a> |\n",
    "<a href=\"#tree\">Tree</a> |\n",
    "<a href=\"#heap\">Heap</a>\n",
    "\n",
    "<a href=\"#workedproblems\">Worked Problems</a>\n",
    "\n",
    "------"
   ]
  },
  {
   "cell_type": "markdown",
   "metadata": {},
   "source": [
    "#### Notes"
   ]
  },
  {
   "cell_type": "markdown",
   "metadata": {},
   "source": [
    "`Double-click` or press `Enter` and type some notes in this cell"
   ]
  },
  {
   "cell_type": "markdown",
   "metadata": {},
   "source": [
    "#### Code"
   ]
  },
  {
   "cell_type": "code",
   "execution_count": 53,
   "metadata": {},
   "outputs": [],
   "source": [
    "# Implement Solution here"
   ]
  },
  {
   "cell_type": "markdown",
   "metadata": {},
   "source": [
    "<a id='strgana'></a>\n",
    "### Group Anagrams\n",
    "------\n",
    "<a href=\"#top\">Top </a>\n",
    "\n",
    "<a href=\"#toc\">Table of Contents</a>\n",
    "\n",
    "- <a href=\"#array\">Array</a> |\n",
    "<a href=\"#binary\">Binary</a> |\n",
    "<a href=\"#dynamic\">Dynamic Programming</a> |\n",
    "<a href=\"#graph\">Graph</a> |\n",
    "<a href=\"#interval\">Interval</a> |\n",
    "<a href=\"#linkedlist\">Linked List</a> |\n",
    "<a href=\"#matrix\">Matrix</a> |\n",
    "<a href=\"#string\">String</a> |\n",
    "<a href=\"#tree\">Tree</a> |\n",
    "<a href=\"#heap\">Heap</a>\n",
    "\n",
    "<a href=\"#workedproblems\">Worked Problems</a>\n",
    "\n",
    "------"
   ]
  },
  {
   "cell_type": "markdown",
   "metadata": {},
   "source": [
    "#### Notes"
   ]
  },
  {
   "cell_type": "markdown",
   "metadata": {},
   "source": [
    "`Double-click` or press `Enter` and type some notes in this cell"
   ]
  },
  {
   "cell_type": "markdown",
   "metadata": {},
   "source": [
    "#### Code"
   ]
  },
  {
   "cell_type": "code",
   "execution_count": 54,
   "metadata": {},
   "outputs": [],
   "source": [
    "# Implement Solution here"
   ]
  },
  {
   "cell_type": "markdown",
   "metadata": {},
   "source": [
    "<a id='strvpar'></a>\n",
    "### Valid Parentheses\n",
    "------\n",
    "<a href=\"#top\">Top </a>\n",
    "\n",
    "<a href=\"#toc\">Table of Contents</a>\n",
    "\n",
    "- <a href=\"#array\">Array</a> |\n",
    "<a href=\"#binary\">Binary</a> |\n",
    "<a href=\"#dynamic\">Dynamic Programming</a> |\n",
    "<a href=\"#graph\">Graph</a> |\n",
    "<a href=\"#interval\">Interval</a> |\n",
    "<a href=\"#linkedlist\">Linked List</a> |\n",
    "<a href=\"#matrix\">Matrix</a> |\n",
    "<a href=\"#string\">String</a> |\n",
    "<a href=\"#tree\">Tree</a> |\n",
    "<a href=\"#heap\">Heap</a>\n",
    "\n",
    "<a href=\"#workedproblems\">Worked Problems</a>\n",
    "\n",
    "------"
   ]
  },
  {
   "cell_type": "markdown",
   "metadata": {},
   "source": [
    "#### Notes"
   ]
  },
  {
   "cell_type": "markdown",
   "metadata": {},
   "source": [
    "`Double-click` or press `Enter` and type some notes in this cell"
   ]
  },
  {
   "cell_type": "markdown",
   "metadata": {},
   "source": [
    "#### Code"
   ]
  },
  {
   "cell_type": "code",
   "execution_count": 55,
   "metadata": {},
   "outputs": [],
   "source": [
    "# Implement Solution here"
   ]
  },
  {
   "cell_type": "markdown",
   "metadata": {},
   "source": [
    "<a id='strvpal'></a>\n",
    "### Valid Palindrome\n",
    "------\n",
    "<a href=\"#top\">Top </a>\n",
    "\n",
    "<a href=\"#toc\">Table of Contents</a>\n",
    "\n",
    "- <a href=\"#array\">Array</a> |\n",
    "<a href=\"#binary\">Binary</a> |\n",
    "<a href=\"#dynamic\">Dynamic Programming</a> |\n",
    "<a href=\"#graph\">Graph</a> |\n",
    "<a href=\"#interval\">Interval</a> |\n",
    "<a href=\"#linkedlist\">Linked List</a> |\n",
    "<a href=\"#matrix\">Matrix</a> |\n",
    "<a href=\"#string\">String</a> |\n",
    "<a href=\"#tree\">Tree</a> |\n",
    "<a href=\"#heap\">Heap</a>\n",
    "\n",
    "<a href=\"#workedproblems\">Worked Problems</a>\n",
    "\n",
    "------"
   ]
  },
  {
   "cell_type": "markdown",
   "metadata": {},
   "source": [
    "#### Notes"
   ]
  },
  {
   "cell_type": "markdown",
   "metadata": {},
   "source": [
    "`Double-click` or press `Enter` and type some notes in this cell"
   ]
  },
  {
   "cell_type": "markdown",
   "metadata": {},
   "source": [
    "#### Code"
   ]
  },
  {
   "cell_type": "code",
   "execution_count": 56,
   "metadata": {},
   "outputs": [],
   "source": [
    "# Implement Solution here"
   ]
  },
  {
   "cell_type": "markdown",
   "metadata": {},
   "source": [
    "<a id='strlongpal'></a>\n",
    "### Longest Palindromic Substring\n",
    "------\n",
    "<a href=\"#top\">Top </a>\n",
    "\n",
    "<a href=\"#toc\">Table of Contents</a>\n",
    "\n",
    "- <a href=\"#array\">Array</a> |\n",
    "<a href=\"#binary\">Binary</a> |\n",
    "<a href=\"#dynamic\">Dynamic Programming</a> |\n",
    "<a href=\"#graph\">Graph</a> |\n",
    "<a href=\"#interval\">Interval</a> |\n",
    "<a href=\"#linkedlist\">Linked List</a> |\n",
    "<a href=\"#matrix\">Matrix</a> |\n",
    "<a href=\"#string\">String</a> |\n",
    "<a href=\"#tree\">Tree</a> |\n",
    "<a href=\"#heap\">Heap</a>\n",
    "\n",
    "<a href=\"#workedproblems\">Worked Problems</a>\n",
    "\n",
    "------"
   ]
  },
  {
   "cell_type": "markdown",
   "metadata": {},
   "source": [
    "#### Notes"
   ]
  },
  {
   "cell_type": "markdown",
   "metadata": {},
   "source": [
    "`Double-click` or press `Enter` and type some notes in this cell"
   ]
  },
  {
   "cell_type": "markdown",
   "metadata": {},
   "source": [
    "#### Code"
   ]
  },
  {
   "cell_type": "code",
   "execution_count": 57,
   "metadata": {},
   "outputs": [],
   "source": [
    "# Implement Solution here"
   ]
  },
  {
   "cell_type": "markdown",
   "metadata": {},
   "source": [
    "<a id='strpalsub'></a>\n",
    "### Palindromic Substrings\n",
    "------\n",
    "<a href=\"#top\">Top </a>\n",
    "\n",
    "<a href=\"#toc\">Table of Contents</a>\n",
    "\n",
    "- <a href=\"#array\">Array</a> |\n",
    "<a href=\"#binary\">Binary</a> |\n",
    "<a href=\"#dynamic\">Dynamic Programming</a> |\n",
    "<a href=\"#graph\">Graph</a> |\n",
    "<a href=\"#interval\">Interval</a> |\n",
    "<a href=\"#linkedlist\">Linked List</a> |\n",
    "<a href=\"#matrix\">Matrix</a> |\n",
    "<a href=\"#string\">String</a> |\n",
    "<a href=\"#tree\">Tree</a> |\n",
    "<a href=\"#heap\">Heap</a>\n",
    "\n",
    "<a href=\"#workedproblems\">Worked Problems</a>\n",
    "\n",
    "------"
   ]
  },
  {
   "cell_type": "markdown",
   "metadata": {},
   "source": [
    "#### Notes"
   ]
  },
  {
   "cell_type": "markdown",
   "metadata": {},
   "source": [
    "`Double-click` or press `Enter` and type some notes in this cell"
   ]
  },
  {
   "cell_type": "markdown",
   "metadata": {},
   "source": [
    "#### Code"
   ]
  },
  {
   "cell_type": "code",
   "execution_count": 58,
   "metadata": {},
   "outputs": [],
   "source": [
    "# Implement Solution here"
   ]
  },
  {
   "cell_type": "markdown",
   "metadata": {},
   "source": [
    "<a id='strendec'></a>\n",
    "### Encode and Decode Strings (Leetcode Premium)\n",
    "------\n",
    "<a href=\"#top\">Top </a>\n",
    "\n",
    "<a href=\"#toc\">Table of Contents</a>\n",
    "\n",
    "- <a href=\"#array\">Array</a> |\n",
    "<a href=\"#binary\">Binary</a> |\n",
    "<a href=\"#dynamic\">Dynamic Programming</a> |\n",
    "<a href=\"#graph\">Graph</a> |\n",
    "<a href=\"#interval\">Interval</a> |\n",
    "<a href=\"#linkedlist\">Linked List</a> |\n",
    "<a href=\"#matrix\">Matrix</a> |\n",
    "<a href=\"#string\">String</a> |\n",
    "<a href=\"#tree\">Tree</a> |\n",
    "<a href=\"#heap\">Heap</a>\n",
    "\n",
    "<a href=\"#workedproblems\">Worked Problems</a>\n",
    "\n",
    "------"
   ]
  },
  {
   "cell_type": "markdown",
   "metadata": {},
   "source": [
    "#### Notes"
   ]
  },
  {
   "cell_type": "markdown",
   "metadata": {},
   "source": [
    "`Double-click` or press `Enter` and type some notes in this cell"
   ]
  },
  {
   "cell_type": "markdown",
   "metadata": {},
   "source": [
    "#### Code"
   ]
  },
  {
   "cell_type": "code",
   "execution_count": 59,
   "metadata": {},
   "outputs": [],
   "source": [
    "# Implement Solution here"
   ]
  },
  {
   "cell_type": "markdown",
   "metadata": {},
   "source": [
    "\n",
    "## Worked Tree Problems\n"
   ]
  },
  {
   "cell_type": "markdown",
   "metadata": {},
   "source": [
    "<a id='treemaxdep'></a>\n",
    "### Maximum Depth of Binary Tree\n",
    "------\n",
    "<a href=\"#top\">Top </a>\n",
    "\n",
    "<a href=\"#toc\">Table of Contents</a>\n",
    "\n",
    "- <a href=\"#array\">Array</a> |\n",
    "<a href=\"#binary\">Binary</a> |\n",
    "<a href=\"#dynamic\">Dynamic Programming</a> |\n",
    "<a href=\"#graph\">Graph</a> |\n",
    "<a href=\"#interval\">Interval</a> |\n",
    "<a href=\"#linkedlist\">Linked List</a> |\n",
    "<a href=\"#matrix\">Matrix</a> |\n",
    "<a href=\"#string\">String</a> |\n",
    "<a href=\"#tree\">Tree</a> |\n",
    "<a href=\"#heap\">Heap</a>\n",
    "\n",
    "<a href=\"#workedproblems\">Worked Problems</a>\n",
    "\n",
    "------"
   ]
  },
  {
   "cell_type": "markdown",
   "metadata": {},
   "source": [
    "#### Notes"
   ]
  },
  {
   "cell_type": "markdown",
   "metadata": {},
   "source": [
    "`Double-click` or press `Enter` and type some notes in this cell"
   ]
  },
  {
   "cell_type": "markdown",
   "metadata": {},
   "source": [
    "#### Code"
   ]
  },
  {
   "cell_type": "code",
   "execution_count": 60,
   "metadata": {},
   "outputs": [],
   "source": [
    "# Implement Solution here"
   ]
  },
  {
   "cell_type": "markdown",
   "metadata": {},
   "source": [
    "<a id='treesame'></a>\n",
    "### Same Tree\n",
    "------\n",
    "<a href=\"#top\">Top </a>\n",
    "\n",
    "<a href=\"#toc\">Table of Contents</a>\n",
    "\n",
    "- <a href=\"#array\">Array</a> |\n",
    "<a href=\"#binary\">Binary</a> |\n",
    "<a href=\"#dynamic\">Dynamic Programming</a> |\n",
    "<a href=\"#graph\">Graph</a> |\n",
    "<a href=\"#interval\">Interval</a> |\n",
    "<a href=\"#linkedlist\">Linked List</a> |\n",
    "<a href=\"#matrix\">Matrix</a> |\n",
    "<a href=\"#string\">String</a> |\n",
    "<a href=\"#tree\">Tree</a> |\n",
    "<a href=\"#heap\">Heap</a>\n",
    "\n",
    "<a href=\"#workedproblems\">Worked Problems</a>\n",
    "\n",
    "------"
   ]
  },
  {
   "cell_type": "markdown",
   "metadata": {},
   "source": [
    "#### Notes"
   ]
  },
  {
   "cell_type": "markdown",
   "metadata": {},
   "source": [
    "`Double-click` or press `Enter` and type some notes in this cell"
   ]
  },
  {
   "cell_type": "markdown",
   "metadata": {},
   "source": [
    "#### Code"
   ]
  },
  {
   "cell_type": "code",
   "execution_count": 61,
   "metadata": {},
   "outputs": [],
   "source": [
    "# Implement Solution here"
   ]
  },
  {
   "cell_type": "markdown",
   "metadata": {},
   "source": [
    "<a id='treeinv'></a>\n",
    "### Invert/Flip Binary Tree\n",
    "------\n",
    "<a href=\"#top\">Top </a>\n",
    "\n",
    "<a href=\"#toc\">Table of Contents</a>\n",
    "\n",
    "- <a href=\"#array\">Array</a> |\n",
    "<a href=\"#binary\">Binary</a> |\n",
    "<a href=\"#dynamic\">Dynamic Programming</a> |\n",
    "<a href=\"#graph\">Graph</a> |\n",
    "<a href=\"#interval\">Interval</a> |\n",
    "<a href=\"#linkedlist\">Linked List</a> |\n",
    "<a href=\"#matrix\">Matrix</a> |\n",
    "<a href=\"#string\">String</a> |\n",
    "<a href=\"#tree\">Tree</a> |\n",
    "<a href=\"#heap\">Heap</a>\n",
    "\n",
    "<a href=\"#workedproblems\">Worked Problems</a>\n",
    "\n",
    "------"
   ]
  },
  {
   "cell_type": "markdown",
   "metadata": {},
   "source": [
    "#### Notes"
   ]
  },
  {
   "cell_type": "markdown",
   "metadata": {},
   "source": [
    "`Double-click` or press `Enter` and type some notes in this cell"
   ]
  },
  {
   "cell_type": "markdown",
   "metadata": {},
   "source": [
    "#### Code"
   ]
  },
  {
   "cell_type": "code",
   "execution_count": 62,
   "metadata": {},
   "outputs": [],
   "source": [
    "# Implement Solution here"
   ]
  },
  {
   "cell_type": "markdown",
   "metadata": {},
   "source": [
    "<a id='treemaxpath'></a>\n",
    "### Binary Tree Maximum Path Sum\n",
    "------\n",
    "<a href=\"#top\">Top </a>\n",
    "\n",
    "<a href=\"#toc\">Table of Contents</a>\n",
    "\n",
    "- <a href=\"#array\">Array</a> |\n",
    "<a href=\"#binary\">Binary</a> |\n",
    "<a href=\"#dynamic\">Dynamic Programming</a> |\n",
    "<a href=\"#graph\">Graph</a> |\n",
    "<a href=\"#interval\">Interval</a> |\n",
    "<a href=\"#linkedlist\">Linked List</a> |\n",
    "<a href=\"#matrix\">Matrix</a> |\n",
    "<a href=\"#string\">String</a> |\n",
    "<a href=\"#tree\">Tree</a> |\n",
    "<a href=\"#heap\">Heap</a>\n",
    "\n",
    "<a href=\"#workedproblems\">Worked Problems</a>\n",
    "\n",
    "------"
   ]
  },
  {
   "cell_type": "markdown",
   "metadata": {},
   "source": [
    "#### Notes"
   ]
  },
  {
   "cell_type": "markdown",
   "metadata": {},
   "source": [
    "`Double-click` or press `Enter` and type some notes in this cell"
   ]
  },
  {
   "cell_type": "markdown",
   "metadata": {},
   "source": [
    "#### Code"
   ]
  },
  {
   "cell_type": "code",
   "execution_count": 63,
   "metadata": {},
   "outputs": [],
   "source": [
    "# Implement Solution here"
   ]
  },
  {
   "cell_type": "markdown",
   "metadata": {},
   "source": [
    "<a id='treebinlvl'></a>\n",
    "### Binary Tree Level Order Traversal\n",
    "------\n",
    "<a href=\"#top\">Top </a>\n",
    "\n",
    "<a href=\"#toc\">Table of Contents</a>\n",
    "\n",
    "- <a href=\"#array\">Array</a> |\n",
    "<a href=\"#binary\">Binary</a> |\n",
    "<a href=\"#dynamic\">Dynamic Programming</a> |\n",
    "<a href=\"#graph\">Graph</a> |\n",
    "<a href=\"#interval\">Interval</a> |\n",
    "<a href=\"#linkedlist\">Linked List</a> |\n",
    "<a href=\"#matrix\">Matrix</a> |\n",
    "<a href=\"#string\">String</a> |\n",
    "<a href=\"#tree\">Tree</a> |\n",
    "<a href=\"#heap\">Heap</a>\n",
    "\n",
    "<a href=\"#workedproblems\">Worked Problems</a>\n",
    "\n",
    "------"
   ]
  },
  {
   "cell_type": "markdown",
   "metadata": {},
   "source": [
    "#### Notes"
   ]
  },
  {
   "cell_type": "markdown",
   "metadata": {},
   "source": [
    "`Double-click` or press `Enter` and type some notes in this cell"
   ]
  },
  {
   "cell_type": "markdown",
   "metadata": {},
   "source": [
    "#### Code"
   ]
  },
  {
   "cell_type": "code",
   "execution_count": 64,
   "metadata": {},
   "outputs": [],
   "source": [
    "# Implement Solution here"
   ]
  },
  {
   "cell_type": "markdown",
   "metadata": {},
   "source": [
    "<a id='treeserial'></a>\n",
    "### Serialize and Deserialize Binary Tree\n",
    "------\n",
    "<a href=\"#top\">Top </a>\n",
    "\n",
    "<a href=\"#toc\">Table of Contents</a>\n",
    "\n",
    "- <a href=\"#array\">Array</a> |\n",
    "<a href=\"#binary\">Binary</a> |\n",
    "<a href=\"#dynamic\">Dynamic Programming</a> |\n",
    "<a href=\"#graph\">Graph</a> |\n",
    "<a href=\"#interval\">Interval</a> |\n",
    "<a href=\"#linkedlist\">Linked List</a> |\n",
    "<a href=\"#matrix\">Matrix</a> |\n",
    "<a href=\"#string\">String</a> |\n",
    "<a href=\"#tree\">Tree</a> |\n",
    "<a href=\"#heap\">Heap</a>\n",
    "\n",
    "<a href=\"#workedproblems\">Worked Problems</a>\n",
    "\n",
    "------"
   ]
  },
  {
   "cell_type": "markdown",
   "metadata": {},
   "source": [
    "#### Notes"
   ]
  },
  {
   "cell_type": "markdown",
   "metadata": {},
   "source": [
    "`Double-click` or press `Enter` and type some notes in this cell"
   ]
  },
  {
   "cell_type": "markdown",
   "metadata": {},
   "source": [
    "#### Code"
   ]
  },
  {
   "cell_type": "code",
   "execution_count": 65,
   "metadata": {},
   "outputs": [],
   "source": [
    "# Implement Solution here"
   ]
  },
  {
   "cell_type": "markdown",
   "metadata": {},
   "source": [
    "<a id='treesub'></a>\n",
    "### Subtree of Another Tree\n",
    "------\n",
    "<a href=\"#top\">Top </a>\n",
    "\n",
    "<a href=\"#toc\">Table of Contents</a>\n",
    "\n",
    "- <a href=\"#array\">Array</a> |\n",
    "<a href=\"#binary\">Binary</a> |\n",
    "<a href=\"#dynamic\">Dynamic Programming</a> |\n",
    "<a href=\"#graph\">Graph</a> |\n",
    "<a href=\"#interval\">Interval</a> |\n",
    "<a href=\"#linkedlist\">Linked List</a> |\n",
    "<a href=\"#matrix\">Matrix</a> |\n",
    "<a href=\"#string\">String</a> |\n",
    "<a href=\"#tree\">Tree</a> |\n",
    "<a href=\"#heap\">Heap</a>\n",
    "\n",
    "<a href=\"#workedproblems\">Worked Problems</a>\n",
    "\n",
    "------"
   ]
  },
  {
   "cell_type": "markdown",
   "metadata": {},
   "source": [
    "#### Notes"
   ]
  },
  {
   "cell_type": "markdown",
   "metadata": {},
   "source": [
    "`Double-click` or press `Enter` and type some notes in this cell"
   ]
  },
  {
   "cell_type": "markdown",
   "metadata": {},
   "source": [
    "#### Code"
   ]
  },
  {
   "cell_type": "code",
   "execution_count": 66,
   "metadata": {},
   "outputs": [],
   "source": [
    "# Implement Solution here"
   ]
  },
  {
   "cell_type": "markdown",
   "metadata": {},
   "source": [
    "<a id='treeconstrbin'></a>\n",
    "### Construct Binary Tree from Preorder and Inorder Traversal\n",
    "------\n",
    "<a href=\"#top\">Top </a>\n",
    "\n",
    "<a href=\"#toc\">Table of Contents</a>\n",
    "\n",
    "- <a href=\"#array\">Array</a> |\n",
    "<a href=\"#binary\">Binary</a> |\n",
    "<a href=\"#dynamic\">Dynamic Programming</a> |\n",
    "<a href=\"#graph\">Graph</a> |\n",
    "<a href=\"#interval\">Interval</a> |\n",
    "<a href=\"#linkedlist\">Linked List</a> |\n",
    "<a href=\"#matrix\">Matrix</a> |\n",
    "<a href=\"#string\">String</a> |\n",
    "<a href=\"#tree\">Tree</a> |\n",
    "<a href=\"#heap\">Heap</a>\n",
    "\n",
    "<a href=\"#workedproblems\">Worked Problems</a>\n",
    "\n",
    "------"
   ]
  },
  {
   "cell_type": "markdown",
   "metadata": {},
   "source": [
    "#### Notes"
   ]
  },
  {
   "cell_type": "markdown",
   "metadata": {},
   "source": [
    "`Double-click` or press `Enter` and type some notes in this cell"
   ]
  },
  {
   "cell_type": "markdown",
   "metadata": {},
   "source": [
    "#### Code"
   ]
  },
  {
   "cell_type": "code",
   "execution_count": 67,
   "metadata": {},
   "outputs": [],
   "source": [
    "# Implement Solution here"
   ]
  },
  {
   "cell_type": "markdown",
   "metadata": {},
   "source": [
    "<a id='treevbin'></a>\n",
    "### Validate Binary Search Tree\n",
    "------\n",
    "<a href=\"#top\">Top </a>\n",
    "\n",
    "<a href=\"#toc\">Table of Contents</a>\n",
    "\n",
    "- <a href=\"#array\">Array</a> |\n",
    "<a href=\"#binary\">Binary</a> |\n",
    "<a href=\"#dynamic\">Dynamic Programming</a> |\n",
    "<a href=\"#graph\">Graph</a> |\n",
    "<a href=\"#interval\">Interval</a> |\n",
    "<a href=\"#linkedlist\">Linked List</a> |\n",
    "<a href=\"#matrix\">Matrix</a> |\n",
    "<a href=\"#string\">String</a> |\n",
    "<a href=\"#tree\">Tree</a> |\n",
    "<a href=\"#heap\">Heap</a>\n",
    "\n",
    "<a href=\"#workedproblems\">Worked Problems</a>\n",
    "\n",
    "------"
   ]
  },
  {
   "cell_type": "markdown",
   "metadata": {},
   "source": [
    "#### Notes"
   ]
  },
  {
   "cell_type": "markdown",
   "metadata": {},
   "source": [
    "`Double-click` or press `Enter` and type some notes in this cell"
   ]
  },
  {
   "cell_type": "markdown",
   "metadata": {},
   "source": [
    "#### Code"
   ]
  },
  {
   "cell_type": "code",
   "execution_count": 68,
   "metadata": {},
   "outputs": [],
   "source": [
    "# Implement Solution here"
   ]
  },
  {
   "cell_type": "markdown",
   "metadata": {},
   "source": [
    "<a id='treeksmall'></a>\n",
    "### Kth Smallest Element in a BST\n",
    "------\n",
    "<a href=\"#top\">Top </a>\n",
    "\n",
    "<a href=\"#toc\">Table of Contents</a>\n",
    "\n",
    "- <a href=\"#array\">Array</a> |\n",
    "<a href=\"#binary\">Binary</a> |\n",
    "<a href=\"#dynamic\">Dynamic Programming</a> |\n",
    "<a href=\"#graph\">Graph</a> |\n",
    "<a href=\"#interval\">Interval</a> |\n",
    "<a href=\"#linkedlist\">Linked List</a> |\n",
    "<a href=\"#matrix\">Matrix</a> |\n",
    "<a href=\"#string\">String</a> |\n",
    "<a href=\"#tree\">Tree</a> |\n",
    "<a href=\"#heap\">Heap</a>\n",
    "\n",
    "<a href=\"#workedproblems\">Worked Problems</a>\n",
    "\n",
    "------"
   ]
  },
  {
   "cell_type": "markdown",
   "metadata": {},
   "source": [
    "#### Notes"
   ]
  },
  {
   "cell_type": "markdown",
   "metadata": {},
   "source": [
    "`Double-click` or press `Enter` and type some notes in this cell"
   ]
  },
  {
   "cell_type": "markdown",
   "metadata": {},
   "source": [
    "#### Code"
   ]
  },
  {
   "cell_type": "code",
   "execution_count": 69,
   "metadata": {},
   "outputs": [],
   "source": [
    "# Implement Solution here"
   ]
  },
  {
   "cell_type": "markdown",
   "metadata": {},
   "source": [
    "<a id='treelca'></a>\n",
    "### Lowest Common Ancestor of BST\n",
    "------\n",
    "<a href=\"#top\">Top </a>\n",
    "\n",
    "<a href=\"#toc\">Table of Contents</a>\n",
    "\n",
    "- <a href=\"#array\">Array</a> |\n",
    "<a href=\"#binary\">Binary</a> |\n",
    "<a href=\"#dynamic\">Dynamic Programming</a> |\n",
    "<a href=\"#graph\">Graph</a> |\n",
    "<a href=\"#interval\">Interval</a> |\n",
    "<a href=\"#linkedlist\">Linked List</a> |\n",
    "<a href=\"#matrix\">Matrix</a> |\n",
    "<a href=\"#string\">String</a> |\n",
    "<a href=\"#tree\">Tree</a> |\n",
    "<a href=\"#heap\">Heap</a>\n",
    "\n",
    "<a href=\"#workedproblems\">Worked Problems</a>\n",
    "\n",
    "------"
   ]
  },
  {
   "cell_type": "markdown",
   "metadata": {},
   "source": [
    "#### Notes"
   ]
  },
  {
   "cell_type": "markdown",
   "metadata": {},
   "source": [
    "`Double-click` or press `Enter` and type some notes in this cell"
   ]
  },
  {
   "cell_type": "markdown",
   "metadata": {},
   "source": [
    "#### Code"
   ]
  },
  {
   "cell_type": "code",
   "execution_count": 70,
   "metadata": {},
   "outputs": [],
   "source": [
    "# Implement Solution here"
   ]
  },
  {
   "cell_type": "markdown",
   "metadata": {},
   "source": [
    "<a id='treeprefix'></a>\n",
    "### Implement Trie (Prefix Tree)\n",
    "------\n",
    "<a href=\"#top\">Top </a>\n",
    "\n",
    "<a href=\"#toc\">Table of Contents</a>\n",
    "\n",
    "- <a href=\"#array\">Array</a> |\n",
    "<a href=\"#binary\">Binary</a> |\n",
    "<a href=\"#dynamic\">Dynamic Programming</a> |\n",
    "<a href=\"#graph\">Graph</a> |\n",
    "<a href=\"#interval\">Interval</a> |\n",
    "<a href=\"#linkedlist\">Linked List</a> |\n",
    "<a href=\"#matrix\">Matrix</a> |\n",
    "<a href=\"#string\">String</a> |\n",
    "<a href=\"#tree\">Tree</a> |\n",
    "<a href=\"#heap\">Heap</a>\n",
    "\n",
    "<a href=\"#workedproblems\">Worked Problems</a>\n",
    "\n",
    "------"
   ]
  },
  {
   "cell_type": "markdown",
   "metadata": {},
   "source": [
    "#### Notes"
   ]
  },
  {
   "cell_type": "markdown",
   "metadata": {},
   "source": [
    "`Double-click` or press `Enter` and type some notes in this cell"
   ]
  },
  {
   "cell_type": "markdown",
   "metadata": {},
   "source": [
    "#### Code"
   ]
  },
  {
   "cell_type": "code",
   "execution_count": 71,
   "metadata": {},
   "outputs": [],
   "source": [
    "# Implement Solution here"
   ]
  },
  {
   "cell_type": "markdown",
   "metadata": {},
   "source": [
    "<a id='treesearch'></a>\n",
    "### Add and Search Word\n",
    "------\n",
    "<a href=\"#top\">Top </a>\n",
    "\n",
    "<a href=\"#toc\">Table of Contents</a>\n",
    "\n",
    "- <a href=\"#array\">Array</a> |\n",
    "<a href=\"#binary\">Binary</a> |\n",
    "<a href=\"#dynamic\">Dynamic Programming</a> |\n",
    "<a href=\"#graph\">Graph</a> |\n",
    "<a href=\"#interval\">Interval</a> |\n",
    "<a href=\"#linkedlist\">Linked List</a> |\n",
    "<a href=\"#matrix\">Matrix</a> |\n",
    "<a href=\"#string\">String</a> |\n",
    "<a href=\"#tree\">Tree</a> |\n",
    "<a href=\"#heap\">Heap</a>\n",
    "\n",
    "<a href=\"#workedproblems\">Worked Problems</a>\n",
    "\n",
    "------"
   ]
  },
  {
   "cell_type": "markdown",
   "metadata": {},
   "source": [
    "#### Notes"
   ]
  },
  {
   "cell_type": "markdown",
   "metadata": {},
   "source": [
    "`Double-click` or press `Enter` and type some notes in this cell"
   ]
  },
  {
   "cell_type": "markdown",
   "metadata": {},
   "source": [
    "#### Code"
   ]
  },
  {
   "cell_type": "code",
   "execution_count": 72,
   "metadata": {},
   "outputs": [],
   "source": [
    "# Implement Solution here"
   ]
  },
  {
   "cell_type": "markdown",
   "metadata": {},
   "source": [
    "<a id='treesearch2'></a>\n",
    "### Word Search II\n",
    "------\n",
    "<a href=\"#top\">Top </a>\n",
    "\n",
    "<a href=\"#toc\">Table of Contents</a>\n",
    "\n",
    "- <a href=\"#array\">Array</a> |\n",
    "<a href=\"#binary\">Binary</a> |\n",
    "<a href=\"#dynamic\">Dynamic Programming</a> |\n",
    "<a href=\"#graph\">Graph</a> |\n",
    "<a href=\"#interval\">Interval</a> |\n",
    "<a href=\"#linkedlist\">Linked List</a> |\n",
    "<a href=\"#matrix\">Matrix</a> |\n",
    "<a href=\"#string\">String</a> |\n",
    "<a href=\"#tree\">Tree</a> |\n",
    "<a href=\"#heap\">Heap</a>\n",
    "\n",
    "<a href=\"#workedproblems\">Worked Problems</a>\n",
    "\n",
    "------"
   ]
  },
  {
   "cell_type": "markdown",
   "metadata": {},
   "source": [
    "#### Notes"
   ]
  },
  {
   "cell_type": "markdown",
   "metadata": {},
   "source": [
    "`Double-click` or press `Enter` and type some notes in this cell"
   ]
  },
  {
   "cell_type": "markdown",
   "metadata": {},
   "source": [
    "#### Code"
   ]
  },
  {
   "cell_type": "code",
   "execution_count": 73,
   "metadata": {},
   "outputs": [],
   "source": [
    "# Implement Solution here"
   ]
  },
  {
   "cell_type": "markdown",
   "metadata": {},
   "source": [
    "\n",
    "## Worked Heap Problems\n"
   ]
  },
  {
   "cell_type": "markdown",
   "metadata": {},
   "source": [
    "<a id='mergeksort'></a>\n",
    "### Merge K Sorted Lists\n",
    "------\n",
    "<a href=\"#top\">Top </a>\n",
    "\n",
    "<a href=\"#toc\">Table of Contents</a>\n",
    "\n",
    "- <a href=\"#array\">Array</a> |\n",
    "<a href=\"#binary\">Binary</a> |\n",
    "<a href=\"#dynamic\">Dynamic Programming</a> |\n",
    "<a href=\"#graph\">Graph</a> |\n",
    "<a href=\"#interval\">Interval</a> |\n",
    "<a href=\"#linkedlist\">Linked List</a> |\n",
    "<a href=\"#matrix\">Matrix</a> |\n",
    "<a href=\"#string\">String</a> |\n",
    "<a href=\"#tree\">Tree</a> |\n",
    "<a href=\"#heap\">Heap</a>\n",
    "\n",
    "<a href=\"#workedproblems\">Worked Problems</a>\n",
    "\n",
    "------"
   ]
  },
  {
   "cell_type": "markdown",
   "metadata": {},
   "source": [
    "#### Notes"
   ]
  },
  {
   "cell_type": "markdown",
   "metadata": {},
   "source": [
    "`Double-click` or press `Enter` and type some notes in this cell"
   ]
  },
  {
   "cell_type": "markdown",
   "metadata": {},
   "source": [
    "#### Code"
   ]
  },
  {
   "cell_type": "code",
   "execution_count": 74,
   "metadata": {},
   "outputs": [],
   "source": [
    "# Implement Solution here"
   ]
  },
  {
   "cell_type": "markdown",
   "metadata": {},
   "source": [
    "<a id='mergekfreq'></a>\n",
    "### Top K Frequent Elements\n",
    "------\n",
    "<a href=\"#top\">Top </a>\n",
    "\n",
    "<a href=\"#toc\">Table of Contents</a>\n",
    "\n",
    "- <a href=\"#array\">Array</a> |\n",
    "<a href=\"#binary\">Binary</a> |\n",
    "<a href=\"#dynamic\">Dynamic Programming</a> |\n",
    "<a href=\"#graph\">Graph</a> |\n",
    "<a href=\"#interval\">Interval</a> |\n",
    "<a href=\"#linkedlist\">Linked List</a> |\n",
    "<a href=\"#matrix\">Matrix</a> |\n",
    "<a href=\"#string\">String</a> |\n",
    "<a href=\"#tree\">Tree</a> |\n",
    "<a href=\"#heap\">Heap</a>\n",
    "\n",
    "<a href=\"#workedproblems\">Worked Problems</a>\n",
    "\n",
    "------"
   ]
  },
  {
   "cell_type": "markdown",
   "metadata": {},
   "source": [
    "#### Notes"
   ]
  },
  {
   "cell_type": "markdown",
   "metadata": {},
   "source": [
    "`Double-click` or press `Enter` and type some notes in this cell"
   ]
  },
  {
   "cell_type": "markdown",
   "metadata": {},
   "source": [
    "#### Code"
   ]
  },
  {
   "cell_type": "code",
   "execution_count": 75,
   "metadata": {},
   "outputs": [],
   "source": [
    "# Implement Solution here"
   ]
  },
  {
   "cell_type": "markdown",
   "metadata": {},
   "source": [
    "<a id='mergefmed'></a>\n",
    "### Find Median From Data Stream\n",
    "------\n",
    "<a href=\"#top\">Top </a>\n",
    "\n",
    "<a href=\"#toc\">Table of Contents</a>\n",
    "\n",
    "- <a href=\"#array\">Array</a> |\n",
    "<a href=\"#binary\">Binary</a> |\n",
    "<a href=\"#dynamic\">Dynamic Programming</a> |\n",
    "<a href=\"#graph\">Graph</a> |\n",
    "<a href=\"#interval\">Interval</a> |\n",
    "<a href=\"#linkedlist\">Linked List</a> |\n",
    "<a href=\"#matrix\">Matrix</a> |\n",
    "<a href=\"#string\">String</a> |\n",
    "<a href=\"#tree\">Tree</a> |\n",
    "<a href=\"#heap\">Heap</a>\n",
    "\n",
    "<a href=\"#workedproblems\">Worked Problems</a>\n",
    "\n",
    "------"
   ]
  },
  {
   "cell_type": "markdown",
   "metadata": {},
   "source": [
    "#### Notes"
   ]
  },
  {
   "cell_type": "markdown",
   "metadata": {},
   "source": [
    "`Double-click` or press `Enter` and type some notes in this cell"
   ]
  },
  {
   "cell_type": "markdown",
   "metadata": {},
   "source": [
    "#### Code"
   ]
  },
  {
   "cell_type": "code",
   "execution_count": 76,
   "metadata": {},
   "outputs": [],
   "source": [
    "# Implement Solution here"
   ]
  }
 ],
 "metadata": {
  "interpreter": {
   "hash": "916dbcbb3f70747c44a77c7bcd40155683ae19c65e1c03b4aa3499c5328201f1"
  },
  "kernelspec": {
   "display_name": "Python 3 (ipykernel)",
   "language": "python",
   "name": "python3"
  },
  "language_info": {
   "codemirror_mode": {
    "name": "ipython",
    "version": 3
   },
   "file_extension": ".py",
   "mimetype": "text/x-python",
   "name": "python",
   "nbconvert_exporter": "python",
   "pygments_lexer": "ipython3",
   "version": "3.8.10"
  }
 },
 "nbformat": 4,
 "nbformat_minor": 4
}
